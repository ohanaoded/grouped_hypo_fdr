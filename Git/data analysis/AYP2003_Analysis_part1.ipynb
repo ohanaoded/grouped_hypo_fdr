{
 "cells": [
  {
   "cell_type": "code",
   "execution_count": 113,
   "id": "612103ef",
   "metadata": {},
   "outputs": [],
   "source": [
    "import pandas as pd\n",
    "import numpy as np\n",
    "import matplotlib.pyplot as plt\n",
    "from scipy.stats import norm"
   ]
  },
  {
   "cell_type": "code",
   "execution_count": 114,
   "id": "b169d1a2",
   "metadata": {},
   "outputs": [],
   "source": [
    "# # trying to save as txt\n",
    "\n",
    "# z = np.arange(0,5,10)\n",
    "# np.savetxt('C:\\\\Users\\\\ahron\\\\AppData\\\\Local\\\\Temp\\\\Temp1_FDR-R-Code.zip\\\\FDR-R-Code\\\\testnow2.txt', z, delimiter=',')"
   ]
  },
  {
   "cell_type": "markdown",
   "id": "3ac9f31e",
   "metadata": {},
   "source": [
    "# 0.) Data loading & Wrangling"
   ]
  },
  {
   "cell_type": "code",
   "execution_count": 115,
   "id": "0d5d09d6",
   "metadata": {},
   "outputs": [
    {
     "name": "stdout",
     "output_type": "stream",
     "text": [
      "Wall time: 55.1 s\n"
     ]
    }
   ],
   "source": [
    "%%time\n",
    "df = pd.read_excel('ayp03dbf.xlsx')"
   ]
  },
  {
   "cell_type": "markdown",
   "id": "86c91d93",
   "metadata": {},
   "source": [
    "\n",
    "\n",
    "Important columns (Definitions: https://www.cde.ca.gov/re/pr/reclayout03p1.asp ):\n",
    "\n",
    "**GENERAL**\n",
    "\n",
    "- **CDS** - County/District/School code - probably the unique identifier in the data\n",
    "- **SNAME** - school name\n",
    "- **TYPE** - 1=Unified, 2=Elementary District, 3=9-12 High District, 4=7-12 High District, E=Elementary School, M=Middle School, H=High School\n",
    "\n",
    "**SCHOOLWIDE**\n",
    "\n",
    "- **m_enr**\t- Schoolwide Enrollment Math\n",
    "- **m_tst** - Schoolwide Tested Math\n",
    "- **m_prate** - Schoolwide Participation Rate Math\n",
    "- **m_prof** - Schoolwide Math students scoring Proficient or Above\n",
    "- **m_pprof** - Schoolwide Math Percent of students scoring Proficient or Above\n",
    "- **m_prate** - Schoolwide Participation Rate Math\n",
    "\n",
    "**SED**\n",
    "\n",
    "- **MNP_SD** - \tMath students scoring Proficient or Above Socioeconomic Disadvantaged\n",
    "- **MPP_SD** - Math Percent of students scoring Proficient or Above Socioeconomic Disadvantaged\n",
    "- **me_sd** - Math Enrollment Socioeconomic Disadvantaged - נרשמו\n",
    "- **mt_sd** - Math Tested Socioeconomic Disadvantaged - נבחנו\n",
    "- **mp_sd** - Math Participation Rate Socioeconomic Disadvantaged"
   ]
  },
  {
   "cell_type": "code",
   "execution_count": 116,
   "id": "0b0e63c6",
   "metadata": {},
   "outputs": [
    {
     "data": {
      "text/plain": [
       "0"
      ]
     },
     "execution_count": 116,
     "metadata": {},
     "output_type": "execute_result"
    }
   ],
   "source": [
    "# Sanity check\n",
    "(df['MT_SD'] < df['MNP_SD']).sum()"
   ]
  },
  {
   "cell_type": "code",
   "execution_count": 117,
   "id": "c35a1027",
   "metadata": {},
   "outputs": [],
   "source": [
    "df = df.rename(columns={\n",
    "                        \"MT_SD\": \"#_sed_tested\",\n",
    "                        \"MNP_SD\": \"#_sed_scored_proficient\", \n",
    "                        #\"MPP_SD\": \"perc_sed_proficient\",\n",
    "                        \"ME_SD\": \"#_sed_enrolled\",\n",
    "                        \n",
    "                        \"M_ENR\": \"#_enrolled__school_size\",\n",
    "                        \"M_TST\": \"#_tested\",\n",
    "                        \"M_PRATE\": \"perc_participation\",\n",
    "                        \"M_PROF\": \"#_scored_proficient\",\n",
    "                        \"M_PPROF\": \"perc_proficient\"})"
   ]
  },
  {
   "cell_type": "code",
   "execution_count": 118,
   "id": "7b8041b3",
   "metadata": {},
   "outputs": [],
   "source": [
    "df_analysis = df[['CDS', 'SNAME', 'TYPE', '#_enrolled__school_size', '#_tested', 'perc_participation', '#_scored_proficient', 'perc_proficient', '#_sed_enrolled', '#_sed_tested', '#_sed_scored_proficient']]\n",
    "#df_analysis.head(2)"
   ]
  },
  {
   "cell_type": "code",
   "execution_count": 119,
   "id": "8be798c4",
   "metadata": {
    "collapsed": true
   },
   "outputs": [
    {
     "name": "stderr",
     "output_type": "stream",
     "text": [
      "C:\\Users\\ahron\\AppData\\Local\\Temp/ipykernel_19556/1313611660.py:2: SettingWithCopyWarning: \n",
      "A value is trying to be set on a copy of a slice from a DataFrame.\n",
      "Try using .loc[row_indexer,col_indexer] = value instead\n",
      "\n",
      "See the caveats in the documentation: https://pandas.pydata.org/pandas-docs/stable/user_guide/indexing.html#returning-a-view-versus-a-copy\n",
      "  df_analysis['real_perc_sed_proficient'] = (df_analysis['#_sed_scored_proficient'] / df_analysis['#_sed_tested']) #* 100\n",
      "C:\\Users\\ahron\\AppData\\Local\\Temp/ipykernel_19556/1313611660.py:4: SettingWithCopyWarning: \n",
      "A value is trying to be set on a copy of a slice from a DataFrame.\n",
      "Try using .loc[row_indexer,col_indexer] = value instead\n",
      "\n",
      "See the caveats in the documentation: https://pandas.pydata.org/pandas-docs/stable/user_guide/indexing.html#returning-a-view-versus-a-copy\n",
      "  df_analysis['#_sea_tested'] = df_analysis['#_tested'] - df_analysis['#_sed_tested']\n",
      "C:\\Users\\ahron\\AppData\\Local\\Temp/ipykernel_19556/1313611660.py:5: SettingWithCopyWarning: \n",
      "A value is trying to be set on a copy of a slice from a DataFrame.\n",
      "Try using .loc[row_indexer,col_indexer] = value instead\n",
      "\n",
      "See the caveats in the documentation: https://pandas.pydata.org/pandas-docs/stable/user_guide/indexing.html#returning-a-view-versus-a-copy\n",
      "  df_analysis['#_sea_scored_proficient'] = df_analysis['#_scored_proficient'] - df_analysis['#_sed_scored_proficient']\n",
      "C:\\Users\\ahron\\AppData\\Local\\Temp/ipykernel_19556/1313611660.py:6: SettingWithCopyWarning: \n",
      "A value is trying to be set on a copy of a slice from a DataFrame.\n",
      "Try using .loc[row_indexer,col_indexer] = value instead\n",
      "\n",
      "See the caveats in the documentation: https://pandas.pydata.org/pandas-docs/stable/user_guide/indexing.html#returning-a-view-versus-a-copy\n",
      "  df_analysis['real_perc_sea_proficient'] = (df_analysis['#_sea_scored_proficient'] / df_analysis['#_sea_tested']) #* 100\n"
     ]
    }
   ],
   "source": [
    "# more sed & sea calculations\n",
    "df_analysis['real_perc_sed_proficient'] = (df_analysis['#_sed_scored_proficient'] / df_analysis['#_sed_tested']) #* 100\n",
    "\n",
    "df_analysis['#_sea_tested'] = df_analysis['#_tested'] - df_analysis['#_sed_tested']\n",
    "df_analysis['#_sea_scored_proficient'] = df_analysis['#_scored_proficient'] - df_analysis['#_sed_scored_proficient']\n",
    "df_analysis['real_perc_sea_proficient'] = (df_analysis['#_sea_scored_proficient'] / df_analysis['#_sea_tested']) #* 100"
   ]
  },
  {
   "cell_type": "code",
   "execution_count": 120,
   "id": "5a67244c",
   "metadata": {},
   "outputs": [
    {
     "data": {
      "text/html": [
       "<div>\n",
       "<style scoped>\n",
       "    .dataframe tbody tr th:only-of-type {\n",
       "        vertical-align: middle;\n",
       "    }\n",
       "\n",
       "    .dataframe tbody tr th {\n",
       "        vertical-align: top;\n",
       "    }\n",
       "\n",
       "    .dataframe thead th {\n",
       "        text-align: right;\n",
       "    }\n",
       "</style>\n",
       "<table border=\"1\" class=\"dataframe\">\n",
       "  <thead>\n",
       "    <tr style=\"text-align: right;\">\n",
       "      <th></th>\n",
       "      <th>CDS</th>\n",
       "      <th>SNAME</th>\n",
       "      <th>TYPE</th>\n",
       "      <th>#_enrolled__school_size</th>\n",
       "      <th>#_tested</th>\n",
       "      <th>perc_participation</th>\n",
       "      <th>#_scored_proficient</th>\n",
       "      <th>perc_proficient</th>\n",
       "      <th>#_sed_enrolled</th>\n",
       "      <th>#_sed_tested</th>\n",
       "      <th>#_sed_scored_proficient</th>\n",
       "      <th>real_perc_sed_proficient</th>\n",
       "      <th>#_sea_tested</th>\n",
       "      <th>#_sea_scored_proficient</th>\n",
       "      <th>real_perc_sea_proficient</th>\n",
       "    </tr>\n",
       "  </thead>\n",
       "  <tbody>\n",
       "    <tr>\n",
       "      <th>0</th>\n",
       "      <td>0</td>\n",
       "      <td>State Total</td>\n",
       "      <td>NaN</td>\n",
       "      <td>3916472.0</td>\n",
       "      <td>3830513.0</td>\n",
       "      <td>97.8</td>\n",
       "      <td>1486839.0</td>\n",
       "      <td>38.8</td>\n",
       "      <td>2099619.0</td>\n",
       "      <td>2056934.0</td>\n",
       "      <td>542964.0</td>\n",
       "      <td>0.263968</td>\n",
       "      <td>1773579.0</td>\n",
       "      <td>943875.0</td>\n",
       "      <td>0.532187</td>\n",
       "    </tr>\n",
       "    <tr>\n",
       "      <th>1</th>\n",
       "      <td>1100170000000</td>\n",
       "      <td>NaN</td>\n",
       "      <td>1</td>\n",
       "      <td>155.0</td>\n",
       "      <td>141.0</td>\n",
       "      <td>90.9</td>\n",
       "      <td>0.0</td>\n",
       "      <td>0.0</td>\n",
       "      <td>147.0</td>\n",
       "      <td>114.0</td>\n",
       "      <td>0.0</td>\n",
       "      <td>0.000000</td>\n",
       "      <td>27.0</td>\n",
       "      <td>0.0</td>\n",
       "      <td>0.000000</td>\n",
       "    </tr>\n",
       "    <tr>\n",
       "      <th>2</th>\n",
       "      <td>1100170130401</td>\n",
       "      <td>Juvenile Hall/Court</td>\n",
       "      <td>H</td>\n",
       "      <td>101.0</td>\n",
       "      <td>94.0</td>\n",
       "      <td>93.0</td>\n",
       "      <td>0.0</td>\n",
       "      <td>0.0</td>\n",
       "      <td>100.0</td>\n",
       "      <td>71.0</td>\n",
       "      <td>0.0</td>\n",
       "      <td>0.000000</td>\n",
       "      <td>23.0</td>\n",
       "      <td>0.0</td>\n",
       "      <td>0.000000</td>\n",
       "    </tr>\n",
       "  </tbody>\n",
       "</table>\n",
       "</div>"
      ],
      "text/plain": [
       "             CDS                SNAME TYPE  #_enrolled__school_size  \\\n",
       "0              0          State Total  NaN                3916472.0   \n",
       "1  1100170000000                  NaN    1                    155.0   \n",
       "2  1100170130401  Juvenile Hall/Court    H                    101.0   \n",
       "\n",
       "    #_tested  perc_participation  #_scored_proficient  perc_proficient  \\\n",
       "0  3830513.0                97.8            1486839.0             38.8   \n",
       "1      141.0                90.9                  0.0              0.0   \n",
       "2       94.0                93.0                  0.0              0.0   \n",
       "\n",
       "   #_sed_enrolled  #_sed_tested  #_sed_scored_proficient  \\\n",
       "0       2099619.0     2056934.0                 542964.0   \n",
       "1           147.0         114.0                      0.0   \n",
       "2           100.0          71.0                      0.0   \n",
       "\n",
       "   real_perc_sed_proficient  #_sea_tested  #_sea_scored_proficient  \\\n",
       "0                  0.263968     1773579.0                 943875.0   \n",
       "1                  0.000000          27.0                      0.0   \n",
       "2                  0.000000          23.0                      0.0   \n",
       "\n",
       "   real_perc_sea_proficient  \n",
       "0                  0.532187  \n",
       "1                  0.000000  \n",
       "2                  0.000000  "
      ]
     },
     "execution_count": 120,
     "metadata": {},
     "output_type": "execute_result"
    }
   ],
   "source": [
    "df_analysis.head(3)"
   ]
  },
  {
   "cell_type": "markdown",
   "id": "70761373",
   "metadata": {},
   "source": [
    "# 1.) Data Cleaning, filtering & clustering"
   ]
  },
  {
   "cell_type": "markdown",
   "id": "d558726c",
   "metadata": {},
   "source": [
    "- According to Rogosa(2003) & Efron:\n",
    "\n",
    "- **Rogosa:** \"under the law, if a subgroup defined by ethnicity or socioeconomic disadvantage constitutes at least 100 pupils, i.e., at least 100 pupils with valid STAR scores, that subgroup is numerically significant. (CDE Explanatory Notes). In the analyses of this section, results are presented for both SD subgroups of at least 30 students and the subset of those subgroups which are deemed \"numerically significant\"\"."
   ]
  },
  {
   "cell_type": "code",
   "execution_count": 121,
   "id": "478eeb65",
   "metadata": {},
   "outputs": [
    {
     "data": {
      "text/plain": [
       "2953"
      ]
     },
     "execution_count": 121,
     "metadata": {},
     "output_type": "execute_result"
    }
   ],
   "source": [
    "# How many Obs. contain nulls?\n",
    "\n",
    "df_analysis_nonull = df_analysis.dropna()\n",
    "len(df_analysis) - len(df_analysis_nonull)"
   ]
  },
  {
   "cell_type": "code",
   "execution_count": 122,
   "id": "652de6cb",
   "metadata": {},
   "outputs": [
    {
     "data": {
      "text/plain": [
       "7106"
      ]
     },
     "execution_count": 122,
     "metadata": {},
     "output_type": "execute_result"
    }
   ],
   "source": [
    "# Size of the non-null sample\n",
    "\n",
    "len(df_analysis_nonull)"
   ]
  },
  {
   "cell_type": "code",
   "execution_count": 123,
   "id": "ec723825",
   "metadata": {},
   "outputs": [
    {
     "data": {
      "text/plain": [
       "567"
      ]
     },
     "execution_count": 123,
     "metadata": {},
     "output_type": "execute_result"
    }
   ],
   "source": [
    "# Out of the non-nulls (7106), How many Obs. are with less than 30 sed pupils?\n",
    "\n",
    "len(df_analysis_nonull[df_analysis_nonull['#_sed_tested'] < 30])"
   ]
  },
  {
   "cell_type": "code",
   "execution_count": 124,
   "id": "7d9ec7a0",
   "metadata": {},
   "outputs": [
    {
     "data": {
      "text/plain": [
       "2178"
      ]
     },
     "execution_count": 124,
     "metadata": {},
     "output_type": "execute_result"
    }
   ],
   "source": [
    "# Out of the non-nulls (7106), How many Obs. are with less than 100 sed pupils?\n",
    "\n",
    "len(df_analysis_nonull[df_analysis_nonull['#_sed_tested'] < 100])"
   ]
  },
  {
   "cell_type": "markdown",
   "id": "6e880752",
   "metadata": {},
   "source": [
    "- **Cai & Sun's '09** filtering, is: \n",
    "   - Based on a preliminary cluster analysis, we divide all schools into three groups according to the number of scores reported (ni + ni): \n",
    "        - small schools (ni + ni ≤ 120) \n",
    "        - medium schools (120 < ni + ni ≤ 900) \n",
    "        - large schools (ni + ni > 900) \n",
    "\n",
    "The group characteristics are summarized in Table 3 (attached).\n",
    " \n",
    " "
   ]
  },
  {
   "attachments": {
    "schoolsizeclusters.JPG": {
     "image/jpeg": "[encoded data removed]"
    }
   },
   "cell_type": "markdown",
   "id": "a83a5974",
   "metadata": {},
   "source": [
    "![schoolsizeclusters.JPG](attachment:schoolsizeclusters.JPG)"
   ]
  },
  {
   "cell_type": "code",
   "execution_count": 125,
   "id": "b8f863c1",
   "metadata": {
    "collapsed": true
   },
   "outputs": [
    {
     "name": "stderr",
     "output_type": "stream",
     "text": [
      "C:\\Users\\ahron\\AppData\\Local\\Temp/ipykernel_19556/276520550.py:2: SettingWithCopyWarning: \n",
      "A value is trying to be set on a copy of a slice from a DataFrame.\n",
      "Try using .loc[row_indexer,col_indexer] = value instead\n",
      "\n",
      "See the caveats in the documentation: https://pandas.pydata.org/pandas-docs/stable/user_guide/indexing.html#returning-a-view-versus-a-copy\n",
      "  df_analysis_nonull['group_size'] = np.where(df_analysis_nonull['#_enrolled__school_size'] < 901, \"medium\", \"large\")\n",
      "C:\\Users\\ahron\\AppData\\Local\\Temp/ipykernel_19556/276520550.py:3: SettingWithCopyWarning: \n",
      "A value is trying to be set on a copy of a slice from a DataFrame.\n",
      "Try using .loc[row_indexer,col_indexer] = value instead\n",
      "\n",
      "See the caveats in the documentation: https://pandas.pydata.org/pandas-docs/stable/user_guide/indexing.html#returning-a-view-versus-a-copy\n",
      "  df_analysis_nonull['group_size'] = np.where(df_analysis_nonull['#_enrolled__school_size'] < 121, \"small\", df_analysis_nonull['group_size'])\n"
     ]
    }
   ],
   "source": [
    "# Creating the clusters, according to cai & sun\n",
    "df_analysis_nonull['group_size'] = np.where(df_analysis_nonull['#_enrolled__school_size'] < 901, \"medium\", \"large\")\n",
    "df_analysis_nonull['group_size'] = np.where(df_analysis_nonull['#_enrolled__school_size'] < 121, \"small\", df_analysis_nonull['group_size'])"
   ]
  },
  {
   "cell_type": "code",
   "execution_count": 126,
   "id": "d56ca594",
   "metadata": {},
   "outputs": [
    {
     "data": {
      "text/plain": [
       "medium    5914\n",
       "large      719\n",
       "small      473\n",
       "Name: group_size, dtype: int64"
      ]
     },
     "execution_count": 126,
     "metadata": {},
     "output_type": "execute_result"
    }
   ],
   "source": [
    "df_analysis_nonull['group_size'].value_counts()"
   ]
  },
  {
   "cell_type": "code",
   "execution_count": 13,
   "id": "40eeab22",
   "metadata": {},
   "outputs": [
    {
     "data": {
      "text/plain": [
       "medium    5914\n",
       "large      719\n",
       "small      473\n",
       "Name: group_size, dtype: int64"
      ]
     },
     "execution_count": 13,
     "metadata": {},
     "output_type": "execute_result"
    }
   ],
   "source": [
    "df_analysis_nonull['group_size'].value_counts()"
   ]
  },
  {
   "cell_type": "markdown",
   "id": "e0acdee8",
   "metadata": {},
   "source": [
    "# 2.) Creating Z values (& saving them)"
   ]
  },
  {
   "attachments": {
    "formulacaisun.png": {
     "image/png": "[encoded data removed]"
    }
   },
   "cell_type": "markdown",
   "id": "2447012a",
   "metadata": {},
   "source": [
    "![formulacaisun.png](attachment:formulacaisun.png)"
   ]
  },
  {
   "cell_type": "code",
   "execution_count": 14,
   "id": "f8e01c5c",
   "metadata": {},
   "outputs": [],
   "source": [
    "# ### X\n",
    "# # Our \"X\" is the success rate of SEA\n",
    "# # df_analysis_nonull['real_perc_sea_proficient']\n",
    "# X = np.array(df_analysis_nonull['real_perc_sea_proficient'])\n",
    "\n",
    "# # X's n is the number of SEA students that were TESTED\n",
    "# n_X = df_analysis_nonull['#_sea_tested']\n",
    "\n",
    "\n",
    "# ### Y\n",
    "# # Our \"Y\" is the success rate of SED\n",
    "# # df_analysis_nonull['real_perc_sed_proficient']\n",
    "# Y = np.array(df_analysis_nonull['real_perc_sed_proficient'])\n",
    "\n",
    "# # Y's n' is the number of SEA students that were TESTED\n",
    "# n_Y = df_analysis_nonull['#_sed_tested']\n",
    "\n",
    "\n",
    "# ### DELTA\n",
    "# # Our \"delta\" is the gap between the two\n",
    "# delta = np.median(np.array(df_analysis_nonull['real_perc_sea_proficient'])) - np.median(np.array(df_analysis_nonull['real_perc_sed_proficient']))\n",
    "\n",
    "\n",
    "# z_vec = (X - Y - delta) / np.sqrt( ((X*(1-X))/n_X) + ((Y*(1-Y))/n_Y) )\n",
    "\n",
    "# # It's minus 66 values (65 minus inf & 1 plus inf)\n",
    "# z_vec = z_vec[~(z_vec>10000)]\n",
    "# z_vec = z_vec[~(z_vec<-10000)]\n",
    "# z_vec"
   ]
  },
  {
   "cell_type": "markdown",
   "id": "d80665d8",
   "metadata": {},
   "source": [
    "## IMPORTANT NOTE: \n",
    "#### THROWING AWAY SCHOOLS WHERE BOTH SEA & SED CAME WITH 0 SUCCESS RATE (INF OR -INF \"Z\" VALUE)"
   ]
  },
  {
   "cell_type": "code",
   "execution_count": 127,
   "id": "cf5b8a3e",
   "metadata": {},
   "outputs": [],
   "source": [
    "def vec_z_creator(df, size, whole = False):\n",
    "    \n",
    "    if whole:\n",
    "        df_ = df\n",
    "    else:\n",
    "        df_ = df[df['group_size'] == size]\n",
    "    \n",
    "    ### X\n",
    "    # Our \"X\" is the success rate of SEA\n",
    "    # df_analysis_nonull['real_perc_sea_proficient']\n",
    "    X = np.array(df_['real_perc_sea_proficient'])\n",
    "\n",
    "    # X's n is the number of SEA students that were TESTED\n",
    "    n_X = df_['#_sea_tested']\n",
    "\n",
    "\n",
    "    ### Y\n",
    "    # Our \"Y\" is the success rate of SED\n",
    "    # df_analysis_nonull['real_perc_sed_proficient']\n",
    "    Y = np.array(df_['real_perc_sed_proficient'])\n",
    "\n",
    "    # Y's n' is the number of SEA students that were TESTED\n",
    "    n_Y = df_['#_sed_tested']\n",
    "\n",
    "\n",
    "    ### DELTA\n",
    "    # Our \"delta\" is the gap between the two\n",
    "    delta = np.median(np.array(df_['real_perc_sea_proficient'])) - np.median(np.array(df_['real_perc_sed_proficient']))\n",
    "\n",
    "    z_vec = (X - Y - delta) / np.sqrt( ((X*(1-X))/n_X) + ((Y*(1-Y))/n_Y) )\n",
    "    z_vec = z_vec[~(z_vec>10000)]\n",
    "    z_vec = z_vec[~(z_vec<-10000)]\n",
    "    \n",
    "    return z_vec"
   ]
  },
  {
   "cell_type": "code",
   "execution_count": 128,
   "id": "ed9beceb",
   "metadata": {},
   "outputs": [],
   "source": [
    "z_small = vec_z_creator(df_analysis_nonull, \"small\")\n",
    "z_medium = vec_z_creator(df_analysis_nonull, \"medium\")\n",
    "z_large = vec_z_creator(df_analysis_nonull, \"large\")"
   ]
  },
  {
   "cell_type": "code",
   "execution_count": 134,
   "id": "92e35132",
   "metadata": {},
   "outputs": [],
   "source": [
    "# saving these 3 Z vectors\n",
    "\n",
    "np.savetxt('C:\\\\Users\\\\ahron\\\\AppData\\\\Local\\\\Temp\\\\Temp1_FDR-R-Code.zip\\\\FDR-R-Code\\\\z_small.txt', z_small, delimiter=',')"
   ]
  },
  {
   "cell_type": "code",
   "execution_count": 135,
   "id": "e1515458",
   "metadata": {},
   "outputs": [],
   "source": [
    "np.savetxt('C:\\\\Users\\\\ahron\\\\AppData\\\\Local\\\\Temp\\\\Temp1_FDR-R-Code.zip\\\\FDR-R-Code\\\\z_medium.txt', z_medium, delimiter=',')"
   ]
  },
  {
   "cell_type": "code",
   "execution_count": 136,
   "id": "2cdca350",
   "metadata": {},
   "outputs": [],
   "source": [
    "np.savetxt('C:\\\\Users\\\\ahron\\\\AppData\\\\Local\\\\Temp\\\\Temp1_FDR-R-Code.zip\\\\FDR-R-Code\\\\z_large.txt', z_large, delimiter=',')"
   ]
  },
  {
   "cell_type": "code",
   "execution_count": null,
   "id": "557b9f26",
   "metadata": {},
   "outputs": [],
   "source": []
  },
  {
   "cell_type": "code",
   "execution_count": 129,
   "id": "ce076e15",
   "metadata": {},
   "outputs": [
    {
     "data": {
      "text/plain": [
       "<AxesSubplot:>"
      ]
     },
     "execution_count": 129,
     "metadata": {},
     "output_type": "execute_result"
    },
    {
     "data": {
      "image/png": "[encoded data removed]",
      "text/plain": [
       "<Figure size 432x288 with 1 Axes>"
      ]
     },
     "metadata": {
      "needs_background": "light"
     },
     "output_type": "display_data"
    }
   ],
   "source": [
    "z_small.hist(bins=35)"
   ]
  },
  {
   "cell_type": "code",
   "execution_count": 130,
   "id": "5156770b",
   "metadata": {},
   "outputs": [
    {
     "data": {
      "text/plain": [
       "<AxesSubplot:>"
      ]
     },
     "execution_count": 130,
     "metadata": {},
     "output_type": "execute_result"
    },
    {
     "data": {
      "image/png": "[encoded data removed]",
      "text/plain": [
       "<Figure size 432x288 with 1 Axes>"
      ]
     },
     "metadata": {
      "needs_background": "light"
     },
     "output_type": "display_data"
    }
   ],
   "source": [
    "z_medium.hist(bins=35)"
   ]
  },
  {
   "cell_type": "code",
   "execution_count": 131,
   "id": "1bf1a1ef",
   "metadata": {},
   "outputs": [
    {
     "data": {
      "text/plain": [
       "<AxesSubplot:>"
      ]
     },
     "execution_count": 131,
     "metadata": {},
     "output_type": "execute_result"
    },
    {
     "data": {
      "image/png": "[encoded data removed]",
      "text/plain": [
       "<Figure size 432x288 with 1 Axes>"
      ]
     },
     "metadata": {
      "needs_background": "light"
     },
     "output_type": "display_data"
    }
   ],
   "source": [
    "z_large.hist(bins=35)"
   ]
  },
  {
   "cell_type": "markdown",
   "id": "01c9e618",
   "metadata": {},
   "source": [
    "# 3.)  Analyzing according to the R library - FDR-R-Code"
   ]
  },
  {
   "cell_type": "code",
   "execution_count": 20,
   "id": "ae901ae0",
   "metadata": {},
   "outputs": [],
   "source": [
    "import fdr_r_code as frc"
   ]
  },
  {
   "cell_type": "code",
   "execution_count": 21,
   "id": "9ac48bf0",
   "metadata": {},
   "outputs": [],
   "source": [
    "alpha = 0.05"
   ]
  },
  {
   "cell_type": "markdown",
   "id": "86662f52",
   "metadata": {},
   "source": [
    "## 3.1.) Demo with hivdata "
   ]
  },
  {
   "cell_type": "code",
   "execution_count": 22,
   "id": "cffa5cae",
   "metadata": {},
   "outputs": [],
   "source": [
    "hivdata = pd.read_csv('hivdata.txt', sep=\" \", header=None)\n",
    "\n",
    "zv_lfdr_hiv, mu_hiv, s_hiv = frc.adaptZ(np.array(hivdata[0]), alpha)\n",
    "#hivdemo"
   ]
  },
  {
   "cell_type": "code",
   "execution_count": 23,
   "id": "576a5249",
   "metadata": {
    "collapsed": true
   },
   "outputs": [
    {
     "data": {
      "text/plain": [
       "(array([1.07132358e+00, 1.01437641e+00, 1.20884914e-08, ...,\n",
       "        1.08954695e+00, 9.99949330e-01, 1.06277046e+00]),\n",
       " -0.08059985786173429,\n",
       " 0.770900397650607)"
      ]
     },
     "execution_count": 23,
     "metadata": {},
     "output_type": "execute_result"
    }
   ],
   "source": [
    "zv_lfdr_hiv, mu_hiv, s_hiv"
   ]
  },
  {
   "cell_type": "markdown",
   "id": "b0716598",
   "metadata": {},
   "source": [
    "## 3.2.) Analysis for the whole data (for thesis writing puposes)"
   ]
  },
  {
   "cell_type": "code",
   "execution_count": 29,
   "id": "4b559343",
   "metadata": {},
   "outputs": [],
   "source": [
    "z_whole = vec_z_creator(df_analysis_nonull, \"whole\", True)"
   ]
  },
  {
   "cell_type": "code",
   "execution_count": 30,
   "id": "166e30f1",
   "metadata": {},
   "outputs": [
    {
     "data": {
      "text/plain": [
       "<AxesSubplot:>"
      ]
     },
     "execution_count": 30,
     "metadata": {},
     "output_type": "execute_result"
    },
    {
     "data": {
      "image/png": "[encoded data removed]",
      "text/plain": [
       "<Figure size 432x288 with 1 Axes>"
      ]
     },
     "metadata": {
      "needs_background": "light"
     },
     "output_type": "display_data"
    }
   ],
   "source": [
    "z_whole.hist(bins=35)"
   ]
  },
  {
   "cell_type": "code",
   "execution_count": 34,
   "id": "868e612b",
   "metadata": {},
   "outputs": [],
   "source": [
    "lfdr_whole, mu_whole, s_whole = frc.adaptZ(np.array(z_whole), alpha)"
   ]
  },
  {
   "cell_type": "code",
   "execution_count": 75,
   "id": "a512576b",
   "metadata": {
    "collapsed": true
   },
   "outputs": [
    {
     "data": {
      "text/plain": [
       "(array([1.38826892, 1.37867242, 1.1254486 , ..., 1.37099096, 1.16350017,\n",
       "        1.3953526 ]),\n",
       " -0.16880117512810905,\n",
       " 1.8100680967893532)"
      ]
     },
     "execution_count": 75,
     "metadata": {},
     "output_type": "execute_result"
    }
   ],
   "source": [
    "lfdr_whole, mu_whole, s_whole"
   ]
  },
  {
   "cell_type": "code",
   "execution_count": 45,
   "id": "7672b9de",
   "metadata": {},
   "outputs": [
    {
     "data": {
      "image/png": "[encoded data removed]",
      "text/plain": [
       "<Figure size 432x288 with 1 Axes>"
      ]
     },
     "metadata": {
      "needs_background": "light"
     },
     "output_type": "display_data"
    }
   ],
   "source": [
    "# Plot between -10 and 10 with .001 steps.\n",
    "x_axis = np.arange(-10, 10, 0.1)\n",
    "\n",
    "plt.plot(x_axis, norm.pdf(x_axis, mu_whole, s_whole), \"--\", label=\"whole\")\n",
    "plt.title(f\"\\n All AYP 2003 Schools aggregated - Global Null Density is ~N({round(mu_whole,2)},{round(s_whole,2)}) \\n\")\n",
    "plt.legend(loc=\"upper left\")\n",
    "plt.show()"
   ]
  },
  {
   "cell_type": "markdown",
   "id": "a81d9d28",
   "metadata": {},
   "source": [
    "## 3.3.) Analysis per school_size \n",
    "\n",
    "- '-'\tsolid line style\n",
    "- '--'\tdashed line style\n",
    "- '-.'\tdash-dot line style\n",
    "- ':'\tdotted line style\n",
    "- '.'\tpoint marker"
   ]
  },
  {
   "cell_type": "code",
   "execution_count": 132,
   "id": "817d5a7f",
   "metadata": {},
   "outputs": [],
   "source": [
    "# declaring again in this notebook\n",
    "\n",
    "z_small = vec_z_creator(df_analysis_nonull, \"small\")\n",
    "z_medium = vec_z_creator(df_analysis_nonull, \"medium\")\n",
    "z_large = vec_z_creator(df_analysis_nonull, \"large\")"
   ]
  },
  {
   "cell_type": "code",
   "execution_count": 47,
   "id": "bb9bbe01",
   "metadata": {},
   "outputs": [],
   "source": [
    "# locfdrs, mus, sigmas\n",
    "\n",
    "lfdr_small, mu_small, s_small = frc.adaptZ(np.array(z_small), alpha)\n",
    "lfdr_medium, mu_medium, s_medium = frc.adaptZ(np.array(z_medium), alpha)\n",
    "lfdr_large, mu_large, s_large = frc.adaptZ(np.array(z_large), alpha)"
   ]
  },
  {
   "cell_type": "code",
   "execution_count": 65,
   "id": "b21a586c",
   "metadata": {},
   "outputs": [
    {
     "data": {
      "image/png": "[encoded data removed]",
      "text/plain": [
       "<Figure size 432x288 with 1 Axes>"
      ]
     },
     "metadata": {
      "needs_background": "light"
     },
     "output_type": "display_data"
    }
   ],
   "source": [
    "# Plot between -10 and 10 with .001 steps.\n",
    "x_axis = np.arange(-15, 15, 0.1)\n",
    "\n",
    "plt.plot(x_axis, norm.pdf(x_axis, mu_whole, s_whole), \"--\", label=\"whole\")\n",
    "plt.plot(x_axis, norm.pdf(x_axis, mu_small, s_small), \"-.\", label=\"small\")\n",
    "plt.plot(x_axis, norm.pdf(x_axis, mu_medium, s_medium), \":\", label=\"medium\")\n",
    "plt.plot(x_axis, norm.pdf(x_axis, mu_large, s_large ), \"-\", label=\"large\")\n",
    "\n",
    "\n",
    "plt.title(f\"\\n AYP 2003 Schools - \\n\\nGlobal Null: ~N({round(mu_whole,2)},{round(s_whole,2)}),\\nSmall Null: ~N({round(mu_small,2)},{round(s_small,2)}),\\nMedium Null: ~N({round(mu_medium,2)},{round(s_medium,2)}),\\nLarge Null: ~N({round(mu_large,2)},{round(s_large,2)})\\n \", fontsize=13)\n",
    "\n",
    "plt.legend(loc=\"upper left\")\n",
    "plt.show()"
   ]
  },
  {
   "cell_type": "code",
   "execution_count": 69,
   "id": "33cd3b6a",
   "metadata": {},
   "outputs": [
    {
     "data": {
      "text/plain": [
       "(7040, 424, 5898, 718)"
      ]
     },
     "execution_count": 69,
     "metadata": {},
     "output_type": "execute_result"
    }
   ],
   "source": [
    "len(z_whole), len(z_small), len(z_medium), len(z_large) "
   ]
  },
  {
   "cell_type": "code",
   "execution_count": 72,
   "id": "7fe0255c",
   "metadata": {},
   "outputs": [
    {
     "data": {
      "text/plain": [
       "0.10198863636363636"
      ]
     },
     "execution_count": 72,
     "metadata": {},
     "output_type": "execute_result"
    }
   ],
   "source": [
    "718/7040"
   ]
  },
  {
   "cell_type": "markdown",
   "id": "53b11c93",
   "metadata": {},
   "source": [
    "# 4.) Applying 8 procedures to it: SL, CL, 3ind, 3dep\n",
    "- Missions:\n",
    "    - A mapper for the locfdr CLFDR per group (dictionary probably)"
   ]
  },
  {
   "cell_type": "code",
   "execution_count": 76,
   "id": "5a79d1e9",
   "metadata": {
    "collapsed": true
   },
   "outputs": [
    {
     "data": {
      "text/plain": [
       "array([1.98502367e+00, 2.11243179e+00, 2.10563467e+00, 2.04095565e+00,\n",
       "       2.11825097e+00, 2.08841392e+00, 1.93880202e+00, 2.06909281e+00,\n",
       "       2.11073785e+00, 1.48156657e+00, 2.04045241e-01, 4.08150040e-02,\n",
       "       2.08504129e+00, 1.68484971e-01, 1.93362983e+00, 8.94424726e-01,\n",
       "       1.88682314e+00, 1.33922111e+00, 2.04940685e+00, 1.98481576e+00,\n",
       "       1.41628881e+00, 1.87227338e+00, 1.40483854e+00, 2.10910770e+00,\n",
       "       2.12320049e+00, 1.94405558e+00, 1.79780816e+00, 2.11259368e+00,\n",
       "       2.10665674e+00, 2.11733077e+00, 1.11390448e+00, 1.42091556e+00,\n",
       "       6.09604816e-01, 1.22966366e+00, 7.06684150e-01, 1.83816518e+00,\n",
       "       1.53491529e+00, 2.10370954e+00, 2.08820009e+00, 2.08476019e+00,\n",
       "       2.09183810e+00, 2.07437736e+00, 2.12037955e+00, 1.64946945e+00,\n",
       "       2.12183925e+00, 2.05943412e+00, 1.87898977e+00, 8.49057211e-01,\n",
       "       2.11656363e+00, 1.21569363e+00, 1.86199775e+00, 2.11956590e+00,\n",
       "       1.99444343e+00, 2.01626174e+00, 1.98421035e+00, 1.96364695e+00,\n",
       "       1.83931732e+00, 3.74245522e-09, 5.01421544e-08, 1.81935118e+00,\n",
       "       1.92492141e+00, 1.55038574e+00, 1.60538689e+00, 9.51512430e-04,\n",
       "       1.43801757e+00, 1.98381298e+00, 1.79542086e+00, 1.17380496e+00,\n",
       "       1.39189688e+00, 1.81681115e+00, 6.80843585e-01, 2.11948360e+00,\n",
       "       5.68608395e-01, 1.37560673e+00, 2.09528140e+00, 2.11674930e+00,\n",
       "       2.08869605e+00, 1.69229017e+00, 1.91165001e+00, 2.12311003e+00,\n",
       "       1.99748882e+00, 1.97131955e+00, 1.71340518e+00, 1.92765811e+00,\n",
       "       2.11683458e+00, 1.85972585e+00, 1.91227340e+00, 1.43115724e+00,\n",
       "       1.72785573e+00, 2.12078788e+00, 2.10122652e+00, 1.55121681e+00,\n",
       "       1.36788783e+00, 1.12525019e+00, 1.23656758e+00, 1.36065214e+00,\n",
       "       1.75986193e+00, 2.10698936e+00, 2.12325259e+00, 2.12307853e+00,\n",
       "       2.04321600e+00, 2.10714108e+00, 1.83632549e+00, 2.00653222e+00,\n",
       "       2.04752003e+00, 4.06559990e-01, 1.54876374e+00, 2.22076176e-02,\n",
       "       5.55141397e-02, 2.11934605e+00, 9.10299116e-01, 1.31845681e+00,\n",
       "       1.65402590e+00, 2.12175398e+00, 2.11657192e+00, 1.01060669e+00,\n",
       "       8.81275493e-01, 1.38725998e+00, 3.16355627e-01, 1.58213946e+00,\n",
       "       2.12261095e+00, 2.11021702e+00, 1.94828623e+00, 1.62002956e+00,\n",
       "       1.51281548e+00, 2.05370871e+00, 1.10020084e+00, 9.89728716e-01,\n",
       "       2.11375604e+00, 1.89590319e+00, 6.12067738e-01, 1.74052834e+00,\n",
       "       1.11068768e+00, 1.41005185e+00, 1.70433768e+00, 1.39330816e+00,\n",
       "       1.86084725e+00, 8.16294517e-10, 2.12319511e+00, 2.06614070e+00,\n",
       "       1.46583233e+00, 4.52596607e-08, 6.75107908e-01, 1.22053712e+00,\n",
       "       1.27027074e+00, 1.31628699e+00, 2.07192266e+00, 1.71710662e+00,\n",
       "       9.36431707e-01, 6.04211896e-01, 1.62084273e+00, 1.76393445e+00,\n",
       "       2.03330288e+00, 1.75365346e+00, 7.27913432e-01, 9.92138760e-01,\n",
       "       2.01196023e+00, 2.04435830e+00, 1.85516063e+00, 9.87916535e-01,\n",
       "       2.11754661e+00, 5.14026962e-01, 1.97596944e+00, 1.03032679e+00,\n",
       "       2.12164751e+00, 7.36297381e-15, 9.48503937e-16, 6.26866526e-11,\n",
       "       1.74067372e-10, 2.03773936e+00, 6.00197215e-23, 1.06299311e-11,\n",
       "       1.41627989e-21, 1.62884901e-09, 3.27807650e-16, 2.03383863e+00,\n",
       "       2.19143434e-08, 2.18742079e-08, 1.67411454e-08, 2.05678668e+00,\n",
       "       2.00319999e+00, 4.08150923e-09, 4.73055590e-08, 1.79289096e-09,\n",
       "       7.89763089e-10, 1.15882419e-09, 7.74095944e-09, 2.19128449e-12,\n",
       "       8.15702060e-13, 9.28401698e-14, 1.61440900e+00, 6.38480720e-10,\n",
       "       1.90582566e-07, 1.99065679e+00, 2.13149667e-07, 3.32757256e-01,\n",
       "       4.02361848e-01, 1.33848156e-01, 6.88080891e-01, 4.85963928e-01,\n",
       "       8.87813943e-01, 1.69560137e-01, 7.98105625e-01, 2.03179285e+00,\n",
       "       1.90681833e+00, 2.15928836e-04, 2.02097738e+00, 1.99280760e+00,\n",
       "       6.93782970e-02, 2.73786399e-02, 7.03746379e-01, 5.75822052e-02,\n",
       "       4.91361519e-02, 2.10184330e+00, 1.21089201e+00, 2.08987700e+00,\n",
       "       2.00720148e+00, 7.18046341e-01, 2.53670001e-02, 9.53049496e-01,\n",
       "       9.32209924e-01, 1.60659848e-05, 1.90816165e+00, 1.40771655e+00,\n",
       "       3.01641890e-01, 5.38191846e-01, 8.65311398e-01, 1.28309620e+00,\n",
       "       1.90271833e+00, 1.25749062e+00, 1.89347109e+00, 8.04193978e-01,\n",
       "       2.07345709e+00, 2.81798544e-01, 1.19502481e+00, 3.37310710e-01,\n",
       "       7.69028320e-01, 1.07286157e+00, 2.09611232e+00, 2.03033062e-01,\n",
       "       2.67739819e-01, 1.30943792e+00, 5.85245998e-01, 1.19847765e+00,\n",
       "       4.05186520e-02, 3.91688401e-03, 1.64891298e+00, 9.86819018e-02,\n",
       "       5.65605545e-01, 1.69119946e-01, 1.43411946e-01, 2.96621987e-01,\n",
       "       1.51479791e+00, 1.98986262e+00, 1.10528189e+00, 1.78265408e+00,\n",
       "       4.86388346e-02, 1.13526724e-02, 2.12252397e+00, 4.57444432e-01,\n",
       "       1.94659041e+00, 5.61270315e-01, 1.32315973e+00, 2.72045426e-01,\n",
       "       1.49306807e+00, 1.33674373e-01, 1.20931495e+00, 1.01845678e+00,\n",
       "       2.08491159e+00, 1.66858464e+00, 1.19662976e+00, 8.54089246e-03,\n",
       "       3.52636304e-01, 9.03977411e-01, 5.75212155e-02, 2.14508179e-02,\n",
       "       2.09571635e+00, 9.49119899e-17, 2.06133574e+00, 1.74123508e+00,\n",
       "       1.43631993e+00, 3.72443673e-12, 2.92934023e-09, 4.10399218e-10,\n",
       "       2.08925419e+00, 1.59160228e+00, 1.11935201e+00, 1.19166798e+00,\n",
       "       1.98020179e+00, 1.20817337e+00, 1.71472824e+00, 2.07137428e+00,\n",
       "       1.98797782e+00, 2.09148932e+00, 1.04744596e+00, 1.35190811e+00,\n",
       "       1.64945345e+00, 1.73880363e+00, 1.72028137e+00, 2.07174305e+00,\n",
       "       1.01313450e+00, 1.38367586e+00, 1.25442165e+00, 1.72536545e+00,\n",
       "       1.68706741e+00, 2.12064970e+00, 1.73770757e+00, 1.74354412e+00,\n",
       "       2.03881624e+00, 2.06275937e+00, 2.12082560e+00, 1.95715328e+00,\n",
       "       1.98559864e+00, 1.12499480e+00, 2.11529115e+00, 2.08325467e+00,\n",
       "       1.15966861e+00, 1.78645479e+00, 1.93545641e+00, 4.13900481e-01,\n",
       "       1.89672044e+00, 2.09849020e+00, 5.37679389e-08, 9.98137317e-09,\n",
       "       8.17153555e-09, 2.08626107e+00, 7.51062121e-01, 2.09494115e+00,\n",
       "       2.06249442e+00, 2.04000569e+00, 2.09542439e+00, 2.06214653e+00,\n",
       "       1.78821121e+00, 2.08788773e+00, 2.11383978e+00, 1.98392515e+00,\n",
       "       1.98418842e+00, 7.37999602e-01, 2.02920976e+00, 1.60329240e+00,\n",
       "       1.98736819e+00, 2.06600677e+00, 2.12242550e+00, 2.08838955e+00,\n",
       "       2.02227667e+00, 1.56630230e+00, 1.84945191e+00, 1.94827893e+00,\n",
       "       1.67277408e+00, 1.37807667e-06, 1.81888760e+00, 1.52737146e+00,\n",
       "       7.25258810e-01, 1.91742303e+00, 1.30515574e+00, 1.98651476e+00,\n",
       "       2.12065897e+00, 2.11655144e+00, 2.06943877e+00, 1.48648869e+00,\n",
       "       1.81040443e+00, 2.05518391e+00, 2.00659522e+00, 2.06948250e+00,\n",
       "       2.01792491e+00, 1.91446073e+00, 2.01305946e+00, 2.00823178e+00,\n",
       "       2.01810316e+00, 1.96277051e+00, 2.04637280e+00, 1.77479792e+00,\n",
       "       1.65714163e+00, 1.04225778e+00, 2.07954696e+00, 2.02247970e+00,\n",
       "       2.04498110e+00, 2.08731507e+00, 2.11689777e+00, 1.77705170e+00,\n",
       "       1.80878190e+00, 1.05446353e+00, 1.87875231e+00, 9.32313358e-01,\n",
       "       2.11994548e+00, 1.00430235e+00, 1.77488525e+00, 1.89159417e+00,\n",
       "       2.01802958e+00, 1.86208884e+00, 1.66305349e+00, 1.28360976e+00,\n",
       "       1.52921226e+00, 1.55385548e+00, 1.81346507e-01, 1.49350803e+00,\n",
       "       1.20106456e+00, 1.93462449e+00, 1.49700027e+00, 1.67589461e+00,\n",
       "       1.96099028e+00, 1.66181632e+00, 1.75171870e+00, 1.95789092e+00,\n",
       "       2.07126699e+00, 2.08988064e+00, 1.82807509e+00, 2.12329570e+00,\n",
       "       2.02313647e+00, 2.09524527e+00, 2.10518819e+00, 1.70656442e+00,\n",
       "       2.06308377e+00, 1.96246166e+00, 1.95968683e-01, 1.83855203e+00,\n",
       "       1.80272551e+00, 2.10326096e+00, 1.89424453e+00, 1.80759109e+00,\n",
       "       2.11562387e+00, 1.68149532e+00, 1.68106315e+00, 1.78146026e+00,\n",
       "       1.81677813e+00, 2.04067286e+00, 2.12184842e+00, 2.01002813e+00,\n",
       "       1.68390106e+00, 1.87395953e+00, 2.12152567e+00, 2.01930514e+00,\n",
       "       1.28521981e+00, 2.10382317e+00, 1.03940337e+00, 1.80577991e+00,\n",
       "       1.62844544e+00, 1.84067411e+00, 1.97420994e+00, 1.94615348e+00,\n",
       "       2.11949088e+00, 9.19174944e-01, 1.27261022e+00, 1.79731313e+00,\n",
       "       1.91503216e+00, 1.43329664e+00, 2.10184883e+00, 1.25595149e+00,\n",
       "       1.21827206e+00, 1.94811359e+00, 1.95110017e+00, 2.11495944e+00,\n",
       "       1.82652184e+00, 1.81676492e+00, 1.85563621e+00, 9.69407833e-01,\n",
       "       6.38492373e-01, 1.54876101e+00, 8.00925836e-01, 2.05736680e+00,\n",
       "       2.00994424e+00, 2.04945546e+00, 1.77976202e+00, 2.11934461e+00,\n",
       "       2.01245055e+00, 2.12083290e+00, 2.10185286e+00, 2.09244315e+00,\n",
       "       1.97016211e+00, 1.61294483e+00, 1.72313283e+00, 9.78353891e-01,\n",
       "       2.11810078e+00, 7.30676049e-01, 1.75055716e+00, 1.83225401e+00,\n",
       "       2.09023453e+00, 2.09656810e+00, 2.07213088e+00, 2.03178584e+00,\n",
       "       1.43912256e+00, 6.17628449e-01, 4.87848449e-07, 1.69625451e+00,\n",
       "       4.45932466e-01, 2.01408661e+00, 1.63594721e-08, 1.99240116e+00,\n",
       "       1.66129433e+00, 2.09525442e+00, 2.11863951e+00, 9.78974961e-01,\n",
       "       1.73339531e+00, 2.07241299e+00, 6.89143102e-01, 1.33014440e+00,\n",
       "       1.81341906e+00, 2.06974080e+00, 1.72656017e+00, 1.99135801e+00,\n",
       "       2.12300484e+00, 1.52046760e+00, 2.09439372e+00, 2.11182378e+00,\n",
       "       1.82389941e+00, 5.17978668e-01, 2.10753822e+00, 2.05319780e+00,\n",
       "       1.41960431e+00, 1.70636108e+00, 1.68659433e+00, 1.22956923e+00,\n",
       "       8.73802623e-01, 1.67693766e+00, 7.53429456e-01, 1.77569646e+00,\n",
       "       1.74937467e+00, 1.43170951e+00, 1.38193283e+00, 1.43137606e+00,\n",
       "       1.07462447e+00, 8.87879444e-01, 4.51437416e-01, 1.56793104e+00,\n",
       "       7.50163292e-01, 1.23481844e+00, 1.72383338e+00, 1.78043077e+00,\n",
       "       1.85984867e+00, 1.19296754e+00, 1.75223311e+00, 8.74114426e-01,\n",
       "       1.18079893e+00, 1.69511373e+00, 1.64169391e+00, 1.13865906e+00,\n",
       "       1.83462327e+00, 1.37151017e+00, 1.92436617e+00, 7.30470757e-01,\n",
       "       1.03907611e+00, 2.04503299e+00, 1.50818304e+00, 1.79810887e+00,\n",
       "       1.96556405e+00, 2.12262705e+00, 1.68222770e+00, 1.89796537e+00,\n",
       "       1.90843748e+00, 1.81312745e+00, 2.11296781e+00, 2.05309699e+00,\n",
       "       1.69016776e+00, 2.11709756e+00, 1.78510789e+00, 2.11586209e+00,\n",
       "       1.93039742e+00, 1.67451986e+00, 2.07613446e+00, 1.94886014e+00,\n",
       "       1.73083764e+00, 1.85749532e+00, 1.73160280e+00, 2.10349834e+00,\n",
       "       1.97954342e+00, 1.98637380e+00, 1.94846319e+00, 1.90928598e+00,\n",
       "       1.33177339e+00, 1.93732098e+00, 2.10374549e+00, 2.12273703e+00,\n",
       "       1.92131034e+00, 1.43918094e+00, 1.27939860e+00, 1.52299547e+00,\n",
       "       1.90869734e+00, 1.66005095e+00, 1.87497600e+00, 1.97801100e+00,\n",
       "       4.50368492e-01, 2.09254596e+00, 2.12242043e+00, 1.72284569e+00,\n",
       "       1.24821996e-10, 1.72449790e+00, 1.87376283e+00, 1.75500315e+00,\n",
       "       2.00218794e+00, 1.89644435e+00, 1.55988224e+00, 1.57094958e-12,\n",
       "       1.92920876e+00, 1.22097124e+00, 2.05455571e+00, 1.52531630e+00,\n",
       "       1.90923044e+00, 2.10963951e+00, 1.11777379e+00, 7.52601094e-01,\n",
       "       2.07502475e+00, 1.22868193e+00, 1.75568400e+00, 6.70856910e-01,\n",
       "       2.11405262e+00, 1.34116839e+00, 7.18481580e-01, 1.72023408e+00,\n",
       "       2.10570441e+00, 1.79590229e+00, 1.95178963e+00, 1.92251818e+00,\n",
       "       2.02370611e+00, 2.12309390e+00, 2.09307644e+00, 1.09124862e+00,\n",
       "       1.85455701e+00, 2.05421260e+00, 1.35446077e+00, 1.60823014e+00,\n",
       "       8.09837768e-01, 1.81229170e+00, 8.02923526e-07, 1.94230620e+00,\n",
       "       2.91318712e-01, 2.04521496e+00, 1.98859651e+00, 4.52019780e-01,\n",
       "       1.08600876e+00, 7.48234484e-01, 1.72739296e+00, 2.08965587e+00,\n",
       "       1.93972190e+00, 2.12209010e+00, 2.04585008e+00, 1.91997780e+00,\n",
       "       2.10393094e+00, 2.08786874e+00, 2.11627932e+00, 1.70890623e+00,\n",
       "       1.59583819e+00, 2.10481743e+00, 1.99311778e+00, 1.98372439e+00,\n",
       "       1.90079515e+00, 2.07849408e+00, 2.08000941e+00, 1.78116668e+00,\n",
       "       2.11732304e+00, 2.12116618e+00, 1.37589908e+00, 2.10737780e+00,\n",
       "       2.12309624e+00, 2.04228986e+00, 1.97758615e+00, 1.52352845e+00,\n",
       "       2.11813218e+00, 2.02071756e+00, 2.10707687e+00, 1.10308273e+00,\n",
       "       1.42355733e+00, 1.53689165e+00, 1.93857316e+00, 2.06508605e+00,\n",
       "       2.01704493e+00, 1.64836889e+00, 1.37034728e+00, 5.31692012e-01,\n",
       "       1.25219100e+00, 1.39135712e+00, 1.61538270e+00, 1.29937837e+00,\n",
       "       1.51841691e+00, 2.12232248e+00, 1.92043197e+00, 1.82311938e+00,\n",
       "       2.12026911e+00, 1.99330268e+00, 1.43564861e+00, 1.87777033e+00,\n",
       "       1.31868102e+00, 2.11991313e+00, 2.10947783e+00, 2.12242937e+00,\n",
       "       2.10451068e+00, 2.07653705e+00, 2.03787412e+00, 2.02732252e+00,\n",
       "       1.73900812e+00, 2.02537979e+00, 1.84057678e+00, 1.66350735e+00,\n",
       "       2.11146879e+00, 2.10914662e+00, 1.79173669e+00, 2.00655785e+00,\n",
       "       2.12329605e+00, 1.82142606e+00, 2.10894169e+00, 2.12276729e+00,\n",
       "       2.00635165e+00, 7.79034117e-01, 2.05709160e+00, 1.57278307e+00,\n",
       "       2.03213403e+00, 1.90000356e+00, 2.11872174e+00, 1.79822704e+00,\n",
       "       1.86464157e+00, 2.06248286e+00, 1.54600707e+00, 1.49190691e+00,\n",
       "       8.66042725e-01, 1.65767210e+00, 1.97531408e+00, 1.52523626e+00,\n",
       "       1.71580761e+00, 2.10476824e+00])"
      ]
     },
     "execution_count": 76,
     "metadata": {},
     "output_type": "execute_result"
    }
   ],
   "source": [
    "lfdr_whole\n",
    "lfdr_small\n",
    "lfdr_medium\n",
    "lfdr_large"
   ]
  },
  {
   "cell_type": "code",
   "execution_count": 89,
   "id": "520b016c",
   "metadata": {},
   "outputs": [
    {
     "data": {
      "text/plain": [
       "0.3495738636363636"
      ]
     },
     "execution_count": 89,
     "metadata": {},
     "output_type": "execute_result"
    }
   ],
   "source": [
    "(np.sort(lfdr_whole) < 1).sum() / len(np.sort(lfdr_whole))"
   ]
  },
  {
   "cell_type": "code",
   "execution_count": 90,
   "id": "51a09f3e",
   "metadata": {},
   "outputs": [
    {
     "data": {
      "text/plain": [
       "0.5377358490566038"
      ]
     },
     "execution_count": 90,
     "metadata": {},
     "output_type": "execute_result"
    }
   ],
   "source": [
    "(np.sort(lfdr_small) < 1).sum() / len(np.sort(lfdr_small))"
   ]
  },
  {
   "cell_type": "code",
   "execution_count": 91,
   "id": "03e80413",
   "metadata": {},
   "outputs": [
    {
     "data": {
      "text/plain": [
       "0.32383858935232285"
      ]
     },
     "execution_count": 91,
     "metadata": {},
     "output_type": "execute_result"
    }
   ],
   "source": [
    "(np.sort(lfdr_medium) < 1).sum() / len(np.sort(lfdr_medium))"
   ]
  },
  {
   "cell_type": "code",
   "execution_count": 92,
   "id": "55c3d48a",
   "metadata": {},
   "outputs": [
    {
     "data": {
      "text/plain": [
       "0.2075208913649025"
      ]
     },
     "execution_count": 92,
     "metadata": {},
     "output_type": "execute_result"
    }
   ],
   "source": [
    "(np.sort(lfdr_large) < 1).sum() / len(np.sort(lfdr_large))"
   ]
  },
  {
   "cell_type": "code",
   "execution_count": 93,
   "id": "8afc76df",
   "metadata": {},
   "outputs": [],
   "source": [
    "universal_olocfdr = [np.sort(lfdr_small), np.sort(lfdr_medium), np.sort(lfdr_large)]"
   ]
  },
  {
   "cell_type": "code",
   "execution_count": 77,
   "id": "3e46680c",
   "metadata": {},
   "outputs": [],
   "source": [
    "def SLFDR_decision_rule(locfdr, alpha):\n",
    "    # recieves: SORTED np.array - locfdr of some group \"k\"  +  alpha\n",
    "    # returns: number of rejections + olocfdr of the rejected ones\n",
    "    \n",
    "    locfdr_cumsum = np.cumsum(locfdr)\n",
    "    rule_sums = locfdr_cumsum / np.array(list(range(1, len(locfdr_cumsum)+1))) \n",
    "    \n",
    "    for statistic in rule_sums[::-1]:\n",
    "        if statistic <= alpha:\n",
    "            break\n",
    "            \n",
    "    if (statistic == rule_sums[0]) & (statistic > alpha):        \n",
    "        num_rejections = 0\n",
    "        rejections_olocfdr = 0        \n",
    "        \n",
    "    else:\n",
    "        num_rejections = list(rule_sums).index(statistic) + 1\n",
    "        rejections_olocfdr = locfdr[:num_rejections]\n",
    "        \n",
    "    return num_rejections, rejections_olocfdr"
   ]
  },
  {
   "cell_type": "code",
   "execution_count": 102,
   "id": "8f4867a2",
   "metadata": {},
   "outputs": [],
   "source": [
    "def SLFDR_analysis(locfdr, alpha):\n",
    "    \n",
    "    # \"locfdr\" should be a LIST of SORTED locfdrs (np.arrays prefferably)\n",
    "    \n",
    "    R_list = []\n",
    "    R_olocfdr_list = []\n",
    "    \n",
    "    for i in range(len(locfdr)):\n",
    "        R, R_olocfdr = SLFDR_decision_rule(locfdr[i], alpha)\n",
    "        R_list.append(R)\n",
    "        R_olocfdr_list.append(R_olocfdr)\n",
    "        \n",
    "    return R_list, R_olocfdr_list"
   ]
  },
  {
   "cell_type": "code",
   "execution_count": 103,
   "id": "903ff387",
   "metadata": {},
   "outputs": [],
   "source": [
    "def CLFDR_analysis(locfdr, alpha):\n",
    "    \n",
    "    # \"locfdr\" should be a LIST of SORTED locfdrs (np.arrays prefferably)\n",
    "    \n",
    "    locfdr_agg_stacked = np.hstack(locfdr)\n",
    "    olocfdr = np.sort(locfdr_agg_stacked)\n",
    "    \n",
    "    R, R_olocfdr = SLFDR_decision_rule(olocfdr, alpha)\n",
    "    \n",
    "    return R, R_olocfdr"
   ]
  },
  {
   "cell_type": "code",
   "execution_count": 106,
   "id": "2c4fe707",
   "metadata": {},
   "outputs": [
    {
     "data": {
      "text/plain": [
       "(663, [81, 508, 74], 666)"
      ]
     },
     "execution_count": 106,
     "metadata": {},
     "output_type": "execute_result"
    }
   ],
   "source": [
    "R_SLFDR, R_OLOCFDR_SLFDR = SLFDR_analysis(universal_olocfdr, alpha)\n",
    "R_CLFDR, R_OLOCFDR_CLFDR = CLFDR_analysis(universal_olocfdr, alpha)\n",
    "np.sum(np.array(R_SLFDR)), R_SLFDR, R_CLFDR"
   ]
  },
  {
   "cell_type": "code",
   "execution_count": null,
   "id": "a1763197",
   "metadata": {},
   "outputs": [],
   "source": []
  },
  {
   "cell_type": "markdown",
   "id": "5d8e0c0f",
   "metadata": {},
   "source": [
    "## 4.1.) fdep that i think wasn't used\n",
    "#### it was later developed in the 'mother simulation'"
   ]
  },
  {
   "cell_type": "code",
   "execution_count": null,
   "id": "78b753c8",
   "metadata": {},
   "outputs": [],
   "source": [
    "\n",
    "def fdep_marginals_groups(alpha, num_hypo, prob_to_1, mu0, mu1, variance_0, variance_1, musMargFDR, musMargPFDR, musMargMFDR):\n",
    "\n",
    "    marglocfdr_agg = []\n",
    "    \n",
    "    #  columns order: marglocfdrFDR, marglocfdrpFDR, marglocfdrmFDR\n",
    "    minprob_mat = np.zeros((1,6),float)\n",
    "    lev_mat = np.zeros((1,6),float) \n",
    "    pow_mat = np.zeros((1,6),float) \n",
    "    ev_mat = np.zeros((1,6),float) \n",
    "    er_mat = np.zeros((1,6),float) \n",
    "    \n",
    "    \n",
    "    # RUTH AND SAHARON LOGIC IS MORE LIKE \"CLFDR\" - WE TAKE EVERYTHING FROM ALL THE GROUPS, AND THEN COMBINE\n",
    "    for i in range(len(mu0)):\n",
    "        # - - - BLOCK BETA - - - \n",
    "        block_beta = my_rbeta(num_hypo[i], \n",
    "                                prob_to_1[i], \n",
    "                                mu0[i], \n",
    "                                mu1[i], \n",
    "                                variance_0[i], \n",
    "                                variance_1[i],\n",
    "                                False)\n",
    "\n",
    "        # - - - for marginal rule - - -\n",
    "        dist_0 = stats.norm(mu0[i], np.sqrt(variance_0[i]))\n",
    "        dist_1 = stats.norm(mu1[i], np.sqrt(variance_1[i]))\n",
    "        margprob_ = (1-prob_to_1[i]) * dist_0.pdf(block_beta)  +  prob_to_1[i] * dist_1.pdf(block_beta)\n",
    "        marglocfdr = (1-prob_to_1[i]) * dist_0.pdf(block_beta) / margprob_    \n",
    "        marglocfdr_agg.append(marglocfdr)\n",
    "    \n",
    "    marglocfdr_agg_stacked = np.hstack(marglocfdr_agg)\n",
    "    omarglocfdr = np.sort(marglocfdr_agg_stacked)\n",
    "    amarg = 1 - omarglocfdr\n",
    "    omarglocfdr_numba = numba.typed.List(omarglocfdr)    \n",
    "    bmarg = np.array(BZCpp_numba_jit(omarglocfdr_numba)) # it WAS np.array but now it's a LIST of np.arrays so that when you take an index from it, it will be fine\n",
    "    \n",
    "    # marglocfdrFDR -v-     \n",
    "    lev_mat, pow_mat, minprob_mat, ev_mat, er_mat = FDR_Generic_structure (mus=musMargFDR, a=amarg, b_1=bmarg, \n",
    "                                                                               b_2=bmarg, ind=3, \n",
    "                                                                               lev_mat=lev_mat, \n",
    "                                                                               pow_mat=pow_mat, \n",
    "                                                                               minprob_mat=minprob_mat, \n",
    "                                                                               ev_mat=ev_mat, \n",
    "                                                                               er_mat=er_mat,  \n",
    "                                                                               olocfdr_function=omarglocfdr, \n",
    "                                                                               alpha = alpha)\n",
    "    # marglocfdrpFDR -v-\n",
    "    lev_mat, pow_mat, minprob_mat, ev_mat, er_mat = FDR_Generic_structure (mus=musMargPFDR, a=amarg, b_1=bmarg, \n",
    "                                                                               b_2=bmarg, ind=4, \n",
    "                                                                               lev_mat=lev_mat, \n",
    "                                                                               pow_mat=pow_mat, \n",
    "                                                                               minprob_mat=minprob_mat, \n",
    "                                                                               ev_mat=ev_mat, \n",
    "                                                                               er_mat=er_mat,  \n",
    "                                                                               olocfdr_function=omarglocfdr,  \n",
    "                                                                               alpha = alpha)\n",
    "    # marglocfdrmFDR \n",
    "    lev_mat, pow_mat, minprob_mat, ev_mat, er_mat = FDR_Generic_structure (mus=musMargMFDR, a=amarg, b_1=(omarglocfdr - alpha),\n",
    "                                                                               b_2=bmarg, ind=5, \n",
    "                                                                               lev_mat=lev_mat, \n",
    "                                                                               pow_mat=pow_mat, \n",
    "                                                                               minprob_mat=minprob_mat, \n",
    "                                                                               ev_mat=ev_mat, \n",
    "                                                                               er_mat=er_mat,  \n",
    "                                                                               olocfdr_function=omarglocfdr, \n",
    "                                                                               alpha = alpha)\n",
    "    return lev_mat, pow_mat, minprob_mat, ev_mat, er_mat\n",
    "\n",
    "\n"
   ]
  },
  {
   "cell_type": "code",
   "execution_count": null,
   "id": "5c689a8c",
   "metadata": {},
   "outputs": [],
   "source": [
    "#### PLAYING WITH R&S IND\n",
    "\n",
    "\n",
    "\n",
    "def fdep_marginals_groups(alpha, num_hypo, prob_to_1, mu0, mu1, variance_0, variance_1, musMargFDR, musMargPFDR, musMargMFDR):\n",
    "\n",
    "    marglocfdr_agg = []\n",
    "    \n",
    "    #  columns order: marglocfdrFDR, marglocfdrpFDR, marglocfdrmFDR\n",
    "    minprob_mat = np.zeros((1,6),float)\n",
    "    lev_mat = np.zeros((1,6),float) \n",
    "    pow_mat = np.zeros((1,6),float) \n",
    "    ev_mat = np.zeros((1,6),float) \n",
    "    er_mat = np.zeros((1,6),float) \n",
    "    \n",
    "    \n",
    "    \n",
    "    \n",
    "    \n",
    "    \n",
    "    \n",
    "    \n",
    "    \n",
    "    \n",
    "    # RUTH AND SAHARON LOGIC IS MORE LIKE \"CLFDR\" - WE TAKE EVERYTHING FROM ALL THE GROUPS, AND THEN COMBINE\n",
    "    for i in range(len(mu0)):\n",
    "        # - - - BLOCK BETA - - - \n",
    "        block_beta = my_rbeta(num_hypo[i], \n",
    "                                prob_to_1[i], \n",
    "                                mu0[i], \n",
    "                                mu1[i], \n",
    "                                variance_0[i], \n",
    "                                variance_1[i],\n",
    "                                False)\n",
    "\n",
    "        # - - - for marginal rule - - -\n",
    "        dist_0 = stats.norm(mu0[i], np.sqrt(variance_0[i]))\n",
    "        dist_1 = stats.norm(mu1[i], np.sqrt(variance_1[i]))\n",
    "        margprob_ = (1-prob_to_1[i]) * dist_0.pdf(block_beta)  +  prob_to_1[i] * dist_1.pdf(block_beta)\n",
    "        marglocfdr = (1-prob_to_1[i]) * dist_0.pdf(block_beta) / margprob_    \n",
    "        marglocfdr_agg.append(marglocfdr)\n",
    "    \n",
    "    \n",
    "    \n",
    "    \n",
    "    \n",
    "    \n",
    "    \n",
    "    \n",
    "    \n",
    "    marglocfdr_agg_stacked = np.hstack(marglocfdr_agg)\n",
    "    omarglocfdr = np.sort(marglocfdr_agg_stacked)\n",
    "    amarg = 1 - omarglocfdr\n",
    "    omarglocfdr_numba = numba.typed.List(omarglocfdr)    \n",
    "    bmarg = np.array(BZCpp_numba_jit(omarglocfdr_numba)) # it WAS np.array but now it's a LIST of np.arrays so that when you take an index from it, it will be fine\n",
    "    \n",
    "    # marglocfdrFDR    \n",
    "    lev_mat, pow_mat, minprob_mat, ev_mat, er_mat = FDR_Generic_structure (mus=musMargFDR, a=amarg, b_1=bmarg, \n",
    "                                                                               b_2=bmarg, ind=3, \n",
    "                                                                               lev_mat=lev_mat, \n",
    "                                                                               pow_mat=pow_mat, \n",
    "                                                                               minprob_mat=minprob_mat, \n",
    "                                                                               ev_mat=ev_mat, \n",
    "                                                                               er_mat=er_mat,  \n",
    "                                                                               olocfdr_function=omarglocfdr, \n",
    "                                                                               alpha = alpha)\n",
    "    # marglocfdrpFDR \n",
    "    lev_mat, pow_mat, minprob_mat, ev_mat, er_mat = FDR_Generic_structure (mus=musMargPFDR, a=amarg, b_1=bmarg, \n",
    "                                                                               b_2=bmarg, ind=4, \n",
    "                                                                               lev_mat=lev_mat, \n",
    "                                                                               pow_mat=pow_mat, \n",
    "                                                                               minprob_mat=minprob_mat, \n",
    "                                                                               ev_mat=ev_mat, \n",
    "                                                                               er_mat=er_mat,  \n",
    "                                                                               olocfdr_function=omarglocfdr,  \n",
    "                                                                               alpha = alpha)\n",
    "    # marglocfdrmFDR \n",
    "    lev_mat, pow_mat, minprob_mat, ev_mat, er_mat = FDR_Generic_structure (mus=musMargMFDR, a=amarg, b_1=(omarglocfdr - alpha),\n",
    "                                                                               b_2=bmarg, ind=5, \n",
    "                                                                               lev_mat=lev_mat, \n",
    "                                                                               pow_mat=pow_mat, \n",
    "                                                                               minprob_mat=minprob_mat, \n",
    "                                                                               ev_mat=ev_mat, \n",
    "                                                                               er_mat=er_mat,  \n",
    "                                                                               olocfdr_function=omarglocfdr, \n",
    "                                                                               alpha = alpha)\n",
    "    return lev_mat, pow_mat, minprob_mat, ev_mat, er_mat\n",
    "\n",
    "\n"
   ]
  },
  {
   "cell_type": "code",
   "execution_count": null,
   "id": "027d254a",
   "metadata": {},
   "outputs": [],
   "source": [
    " \n",
    "### PLAYING WITH THE DEP\n",
    "\n",
    "\n",
    "def fdep_ORACLE(musFDR, musPFDR, musMFDR, olocfdr_packed, maxiter, alpha):\n",
    "\n",
    "    # \"columns order: OMTFDR, OMTpFDR, OMTmFDR ... \"\n",
    "    minprob_mat = np.zeros((1,3),float)\n",
    "    lev_mat = np.zeros((1,3),float)\n",
    "    pow_mat = np.zeros((1,3),float)\n",
    "    ev_mat = np.zeros((1,3),float)\n",
    "    er_mat = np.zeros((1,3),float)  \n",
    "    \n",
    "    # - - - for oracle rule - - -\n",
    "    a, b, locFDR = AandB_a_and_b_generator (olocfdr_packed, maxiter)\n",
    "    \n",
    "    for iter in range(maxiter): \n",
    "\n",
    "        # OMTFDR \n",
    "        lev_mat, pow_mat, minprob_mat, ev_mat, er_mat = FDR_Generic_structure (mus=musFDR, \n",
    "                                                                               a=a[iter], \n",
    "                                                                               b_1=b[iter], \n",
    "                                                                               b_2=b[iter], \n",
    "                                                                               ind=0, \n",
    "                                                                               lev_mat=lev_mat, \n",
    "                                                                               pow_mat=pow_mat, \n",
    "                                                                               minprob_mat=minprob_mat, \n",
    "                                                                               ev_mat=ev_mat, \n",
    "                                                                               er_mat=er_mat, \n",
    "                                                                               olocfdr_function=locFDR[iter],  \n",
    "                                                                               alpha = alpha)      \n",
    "         # OMTpFDR \n",
    "        lev_mat, pow_mat, minprob_mat, ev_mat, er_mat = FDR_Generic_structure (mus=musPFDR, \n",
    "                                                                               a=a[iter], \n",
    "                                                                               b_1=b[iter], \n",
    "                                                                               b_2=b[iter], \n",
    "                                                                               ind=1, \n",
    "                                                                               lev_mat=lev_mat, \n",
    "                                                                               pow_mat=pow_mat, \n",
    "                                                                               minprob_mat=minprob_mat, \n",
    "                                                                               ev_mat=ev_mat, \n",
    "                                                                               er_mat=er_mat, \n",
    "                                                                               olocfdr_function=locFDR[iter],  \n",
    "                                                                               alpha = alpha)    \n",
    "        # OMTMFDR \n",
    "        lev_mat, pow_mat, minprob_mat, ev_mat, er_mat = FDR_Generic_structure (mus=musMFDR, \n",
    "                                                                               a=a[iter-1], \n",
    "                                                                               b_1=locFDR[iter] - alpha, \n",
    "                                                                               b_2=b[iter], \n",
    "                                                                               ind=2, \n",
    "                                                                               lev_mat=lev_mat, \n",
    "                                                                               pow_mat=pow_mat, \n",
    "                                                                               minprob_mat=minprob_mat, \n",
    "                                                                               ev_mat=ev_mat, \n",
    "                                                                               er_mat=er_mat, \n",
    "                                                                               olocfdr_function=locFDR[iter],  \n",
    "                                                                               alpha = alpha)                  \n",
    "\n",
    "    return lev_mat/maxiter, pow_mat/maxiter, minprob_mat/maxiter, ev_mat/maxiter, er_mat/maxiter\n",
    "\n",
    "    "
   ]
  },
  {
   "cell_type": "code",
   "execution_count": null,
   "id": "e54a5c38",
   "metadata": {},
   "outputs": [],
   "source": [
    "\n",
    "# DEP\n",
    "\n",
    "def fdep_ORACLE(musFDR, musPFDR, musMFDR, olocfdr_packed, maxiter, alpha):\n",
    "\n",
    "    # \"columns order: OMTFDR, OMTpFDR, OMTmFDR ... \"\n",
    "    minprob_mat = np.zeros((1,3),float)\n",
    "    lev_mat = np.zeros((1,3),float)\n",
    "    pow_mat = np.zeros((1,3),float)\n",
    "    ev_mat = np.zeros((1,3),float)\n",
    "    er_mat = np.zeros((1,3),float)  \n",
    "    \n",
    "    # - - - for oracle rule - - -\n",
    "    a, b, locFDR = AandB_a_and_b_generator (olocfdr_packed, maxiter)\n",
    "    \n",
    "    for iter in range(maxiter): \n",
    "\n",
    "        # OMTFDR \n",
    "        lev_mat, pow_mat, minprob_mat, ev_mat, er_mat = FDR_Generic_structure (mus=musFDR, \n",
    "                                                                               a=a[iter], \n",
    "                                                                               b_1=b[iter], \n",
    "                                                                               b_2=b[iter], \n",
    "                                                                               ind=0, \n",
    "                                                                               lev_mat=lev_mat, \n",
    "                                                                               pow_mat=pow_mat, \n",
    "                                                                               minprob_mat=minprob_mat, \n",
    "                                                                               ev_mat=ev_mat, \n",
    "                                                                               er_mat=er_mat, \n",
    "                                                                               olocfdr_function=locFDR[iter],  \n",
    "                                                                               alpha = alpha)      \n",
    "         # OMTpFDR \n",
    "        lev_mat, pow_mat, minprob_mat, ev_mat, er_mat = FDR_Generic_structure (mus=musPFDR, \n",
    "                                                                               a=a[iter], \n",
    "                                                                               b_1=b[iter], \n",
    "                                                                               b_2=b[iter], \n",
    "                                                                               ind=1, \n",
    "                                                                               lev_mat=lev_mat, \n",
    "                                                                               pow_mat=pow_mat, \n",
    "                                                                               minprob_mat=minprob_mat, \n",
    "                                                                               ev_mat=ev_mat, \n",
    "                                                                               er_mat=er_mat, \n",
    "                                                                               olocfdr_function=locFDR[iter],  \n",
    "                                                                               alpha = alpha)    \n",
    "        # OMTMFDR \n",
    "        lev_mat, pow_mat, minprob_mat, ev_mat, er_mat = FDR_Generic_structure (mus=musMFDR, \n",
    "                                                                               a=a[iter-1], \n",
    "                                                                               b_1=locFDR[iter] - alpha, \n",
    "                                                                               b_2=b[iter], \n",
    "                                                                               ind=2, \n",
    "                                                                               lev_mat=lev_mat, \n",
    "                                                                               pow_mat=pow_mat, \n",
    "                                                                               minprob_mat=minprob_mat, \n",
    "                                                                               ev_mat=ev_mat, \n",
    "                                                                               er_mat=er_mat, \n",
    "                                                                               olocfdr_function=locFDR[iter],  \n",
    "                                                                               alpha = alpha)                  \n",
    "\n",
    "    return lev_mat/maxiter, pow_mat/maxiter, minprob_mat/maxiter, ev_mat/maxiter, er_mat/maxiter\n"
   ]
  },
  {
   "cell_type": "code",
   "execution_count": null,
   "id": "c7dc1964",
   "metadata": {},
   "outputs": [],
   "source": []
  },
  {
   "cell_type": "code",
   "execution_count": null,
   "id": "f374a16e",
   "metadata": {},
   "outputs": [],
   "source": []
  }
 ],
 "metadata": {
  "kernelspec": {
   "display_name": "Python 3 (ipykernel)",
   "language": "python",
   "name": "python3"
  },
  "language_info": {
   "codemirror_mode": {
    "name": "ipython",
    "version": 3
   },
   "file_extension": ".py",
   "mimetype": "text/x-python",
   "name": "python",
   "nbconvert_exporter": "python",
   "pygments_lexer": "ipython3",
   "version": "3.9.7"
  }
 },
 "nbformat": 4,
 "nbformat_minor": 5
}
