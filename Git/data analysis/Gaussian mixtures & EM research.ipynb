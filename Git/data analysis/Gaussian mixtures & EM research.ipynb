{
 "cells": [
  {
   "cell_type": "code",
   "execution_count": 192,
   "id": "084d1674",
   "metadata": {},
   "outputs": [],
   "source": [
    "from sklearn.mixture import GaussianMixture\n",
    "import pandas as pd\n",
    "import numpy as np\n",
    "import matplotlib.pyplot as plt"
   ]
  },
  {
   "cell_type": "markdown",
   "id": "af23d5de",
   "metadata": {},
   "source": [
    "# 0.) Toy example for the GaussianMixture (GM) algorithm"
   ]
  },
  {
   "cell_type": "code",
   "execution_count": 22,
   "id": "d7c1a9cd",
   "metadata": {
    "collapsed": true
   },
   "outputs": [
    {
     "data": {
      "text/plain": [
       "(array([ 10.,  27.,  82., 172., 247., 228., 137.,  72.,  20.,   5.]),\n",
       " array([-3.01789007, -2.40335926, -1.78882845, -1.17429765, -0.55976684,\n",
       "         0.05476397,  0.66929478,  1.28382559,  1.8983564 ,  2.51288721,\n",
       "         3.12741802]),\n",
       " <BarContainer object of 10 artists>)"
      ]
     },
     "execution_count": 22,
     "metadata": {},
     "output_type": "execute_result"
    },
    {
     "data": {
      "image/png": "[encoded data removed]",
      "text/plain": [
       "<Figure size 432x288 with 1 Axes>"
      ]
     },
     "metadata": {
      "needs_background": "light"
     },
     "output_type": "display_data"
    }
   ],
   "source": [
    "# ahalan = np.random.standard_normal(1000)\n",
    "# plt.hist(ahalan)"
   ]
  },
  {
   "cell_type": "code",
   "execution_count": null,
   "id": "a6918839",
   "metadata": {},
   "outputs": [],
   "source": [
    "# The code, in a nutshell\n",
    "\n",
    "# gm = GaussianMixture(5, tol = 0.0000001, max_iter = 1000000)\n",
    "# ahalan_df = pd.DataFrame(ahalan)\n",
    "# pred = gm.fit_predict(ahalan_df)\n",
    "# ## 5\n",
    "# pop1, pop2, pop3, pop4, pop5 = ahalan_df.loc[pred==0], ahalan_df.loc[pred==1], ahalan_df.loc[pred==2], ahalan_df.loc[pred==3], ahalan_df.loc[pred==4] \n",
    "\n",
    "# ## 5\n",
    "# concat = pd.concat([pop1, pop2, pop3, pop4, pop5], axis=1)\n",
    "# concat.columns = ['pop1', 'pop2', 'pop3', 'pop4', 'pop5']\n",
    "# concat.describe()"
   ]
  },
  {
   "cell_type": "code",
   "execution_count": 31,
   "id": "a4635566",
   "metadata": {},
   "outputs": [],
   "source": [
    "# gm = GaussianMixture(5, tol = 0.0000001, max_iter = 1000000)"
   ]
  },
  {
   "cell_type": "code",
   "execution_count": 32,
   "id": "25ff6556",
   "metadata": {},
   "outputs": [],
   "source": [
    "# ahalan_df = pd.DataFrame(ahalan)"
   ]
  },
  {
   "cell_type": "code",
   "execution_count": 33,
   "id": "40fdf0b2",
   "metadata": {},
   "outputs": [],
   "source": [
    "# pred = gm.fit_predict(ahalan_df)"
   ]
  },
  {
   "cell_type": "code",
   "execution_count": 34,
   "id": "f4485a67",
   "metadata": {},
   "outputs": [],
   "source": [
    "# ## 5\n",
    "# pop1, pop2, pop3, pop4, pop5 = ahalan_df.loc[pred==0], ahalan_df.loc[pred==1], ahalan_df.loc[pred==2], ahalan_df.loc[pred==3], ahalan_df.loc[pred==4] \n",
    "# ## 3\n",
    "# #pop1, pop2, pop3 = ahalan_df.loc[pred==0], ahalan_df.loc[pred==1], ahalan_df.loc[pred==2] #, ahalan_df.loc[pred==3], ahalan_df.loc[pred==4] "
   ]
  },
  {
   "cell_type": "code",
   "execution_count": 35,
   "id": "8071d2a4",
   "metadata": {
    "collapsed": true
   },
   "outputs": [
    {
     "data": {
      "text/html": [
       "<div>\n",
       "<style scoped>\n",
       "    .dataframe tbody tr th:only-of-type {\n",
       "        vertical-align: middle;\n",
       "    }\n",
       "\n",
       "    .dataframe tbody tr th {\n",
       "        vertical-align: top;\n",
       "    }\n",
       "\n",
       "    .dataframe thead th {\n",
       "        text-align: right;\n",
       "    }\n",
       "</style>\n",
       "<table border=\"1\" class=\"dataframe\">\n",
       "  <thead>\n",
       "    <tr style=\"text-align: right;\">\n",
       "      <th></th>\n",
       "      <th>pop1</th>\n",
       "      <th>pop2</th>\n",
       "      <th>pop3</th>\n",
       "      <th>pop4</th>\n",
       "      <th>pop5</th>\n",
       "    </tr>\n",
       "  </thead>\n",
       "  <tbody>\n",
       "    <tr>\n",
       "      <th>count</th>\n",
       "      <td>144.000000</td>\n",
       "      <td>302.000000</td>\n",
       "      <td>492.000000</td>\n",
       "      <td>23.000000</td>\n",
       "      <td>39.000000</td>\n",
       "    </tr>\n",
       "    <tr>\n",
       "      <th>mean</th>\n",
       "      <td>1.244160</td>\n",
       "      <td>-1.017398</td>\n",
       "      <td>0.150197</td>\n",
       "      <td>-2.447012</td>\n",
       "      <td>2.127208</td>\n",
       "    </tr>\n",
       "    <tr>\n",
       "      <th>std</th>\n",
       "      <td>0.202335</td>\n",
       "      <td>0.390198</td>\n",
       "      <td>0.371686</td>\n",
       "      <td>0.301991</td>\n",
       "      <td>0.365495</td>\n",
       "    </tr>\n",
       "    <tr>\n",
       "      <th>min</th>\n",
       "      <td>0.922971</td>\n",
       "      <td>-2.040258</td>\n",
       "      <td>-0.474142</td>\n",
       "      <td>-3.017890</td>\n",
       "      <td>1.695653</td>\n",
       "    </tr>\n",
       "    <tr>\n",
       "      <th>25%</th>\n",
       "      <td>1.089616</td>\n",
       "      <td>-1.272799</td>\n",
       "      <td>-0.161888</td>\n",
       "      <td>-2.655820</td>\n",
       "      <td>1.834889</td>\n",
       "    </tr>\n",
       "    <tr>\n",
       "      <th>50%</th>\n",
       "      <td>1.225151</td>\n",
       "      <td>-0.964128</td>\n",
       "      <td>0.130016</td>\n",
       "      <td>-2.376173</td>\n",
       "      <td>2.070754</td>\n",
       "    </tr>\n",
       "    <tr>\n",
       "      <th>75%</th>\n",
       "      <td>1.385101</td>\n",
       "      <td>-0.692916</td>\n",
       "      <td>0.454746</td>\n",
       "      <td>-2.192831</td>\n",
       "      <td>2.308576</td>\n",
       "    </tr>\n",
       "    <tr>\n",
       "      <th>max</th>\n",
       "      <td>1.666157</td>\n",
       "      <td>-0.476648</td>\n",
       "      <td>0.900973</td>\n",
       "      <td>-2.081366</td>\n",
       "      <td>3.127418</td>\n",
       "    </tr>\n",
       "  </tbody>\n",
       "</table>\n",
       "</div>"
      ],
      "text/plain": [
       "             pop1        pop2        pop3       pop4       pop5\n",
       "count  144.000000  302.000000  492.000000  23.000000  39.000000\n",
       "mean     1.244160   -1.017398    0.150197  -2.447012   2.127208\n",
       "std      0.202335    0.390198    0.371686   0.301991   0.365495\n",
       "min      0.922971   -2.040258   -0.474142  -3.017890   1.695653\n",
       "25%      1.089616   -1.272799   -0.161888  -2.655820   1.834889\n",
       "50%      1.225151   -0.964128    0.130016  -2.376173   2.070754\n",
       "75%      1.385101   -0.692916    0.454746  -2.192831   2.308576\n",
       "max      1.666157   -0.476648    0.900973  -2.081366   3.127418"
      ]
     },
     "execution_count": 35,
     "metadata": {},
     "output_type": "execute_result"
    }
   ],
   "source": [
    "# ## 5\n",
    "# concat = pd.concat([pop1, pop2, pop3, pop4, pop5], axis=1)\n",
    "# concat.columns = ['pop1', 'pop2', 'pop3', 'pop4', 'pop5']\n",
    "\n",
    "# ## 3\n",
    "# #concat = pd.concat([pop1, pop2, pop3], axis=1)\n",
    "# #concat.columns = ['pop1', 'pop2', 'pop3']\n",
    "\n",
    "# concat.describe()"
   ]
  },
  {
   "cell_type": "code",
   "execution_count": 36,
   "id": "aa6f4ec1",
   "metadata": {},
   "outputs": [
    {
     "data": {
      "text/plain": [
       "(0.144, 0.302, 0.492, 0.023, 0.039)"
      ]
     },
     "execution_count": 36,
     "metadata": {},
     "output_type": "execute_result"
    }
   ],
   "source": [
    "# 144/1000, 302/1000, 492/1000, 23/1000, 39/1000"
   ]
  },
  {
   "cell_type": "code",
   "execution_count": null,
   "id": "7e9c0f66",
   "metadata": {},
   "outputs": [],
   "source": [
    "# CHECK THE DEFAULTS OF YOUR SKLEAN -VS.- THE DEFUALTS IN THEIR LIBRARY MIXFDR"
   ]
  },
  {
   "cell_type": "markdown",
   "id": "738ba1be",
   "metadata": {},
   "source": [
    "# 1.) Comparing results of the GM algorithm for cai & sun's 09' settings "
   ]
  },
  {
   "cell_type": "code",
   "execution_count": 177,
   "id": "346ddef6",
   "metadata": {},
   "outputs": [],
   "source": [
    "def my_rbeta(num_hypo, prob_to_1, mu0, mu1, variance_0, variance_1, with_h = False): \n",
    "    \n",
    "    # Z & vector h\n",
    "    Z_vec = np.random.normal(0,1,num_hypo)\n",
    "    vec_h = np.random.binomial(1, p=prob_to_1, size=num_hypo)\n",
    "\n",
    "    # mu's\n",
    "    mu_vec_1 = vec_h * mu1 \n",
    "    mu_vec_1_0 = np.where(mu_vec_1 == 0, mu0, mu_vec_1)\n",
    "\n",
    "    # variance & std err\n",
    "    var_vec_1 = vec_h * variance_1\n",
    "    var_vec_1_0 = np.where(var_vec_1 == 0, variance_0, var_vec_1)\n",
    "    sqrt_var_vec_1_0 = np.sqrt(var_vec_1_0)\n",
    "    \n",
    "    if not with_h:\n",
    "        return sqrt_var_vec_1_0 * Z_vec + mu_vec_1_0\n",
    "    else:\n",
    "        return sqrt_var_vec_1_0 * Z_vec + mu_vec_1_0, vec_h"
   ]
  },
  {
   "cell_type": "code",
   "execution_count": 178,
   "id": "55deac89",
   "metadata": {},
   "outputs": [],
   "source": [
    "### Cai & sun 09' setting - Study 1# --- 1\n",
    "prob_to_1 = [0.15, 0.1]\n",
    "#x = [0.03, 0.15, 0.27]\n",
    "\n",
    "num_hypo = [300, 150]\n",
    "\n",
    "mu0 = [0, 0]\n",
    "mu1 = [-2, 4]\n",
    "\n",
    "variance_0 = [1, 1]\n",
    "variance_1 = [1, 1]"
   ]
  },
  {
   "cell_type": "code",
   "execution_count": 60,
   "id": "648c3e21",
   "metadata": {},
   "outputs": [
    {
     "data": {
      "text/plain": [
       "45.0"
      ]
     },
     "execution_count": 60,
     "metadata": {},
     "output_type": "execute_result"
    }
   ],
   "source": [
    "300 * 0.15"
   ]
  },
  {
   "cell_type": "markdown",
   "id": "966fa15a",
   "metadata": {},
   "source": [
    "Cai and sun 2009 setting:\n",
    "- Group null     - hypotheses = 255, mean = 0, var = 1\n",
    "- Group non-null - hypotheses = 45, mean = -2, var = 1\n",
    "\n",
    "My results (GaussianMixture(2, tol = 0.0001, reg_covar=0.02, max_iter = 1000000):\n",
    "- Group null     - hypotheses = 259, mean = 0.15, var = 0.9\n",
    "- Group non-null - hypotheses = 41, mean = -1.84, var = 1.3"
   ]
  },
  {
   "cell_type": "code",
   "execution_count": 179,
   "id": "d76f3f01",
   "metadata": {},
   "outputs": [],
   "source": [
    "z_study1_setting1_onegrouponly = my_rbeta(num_hypo[0], prob_to_1[0], mu0[0], mu1[0], variance_0[0], variance_1[0])"
   ]
  },
  {
   "cell_type": "code",
   "execution_count": 180,
   "id": "effec3f5",
   "metadata": {},
   "outputs": [
    {
     "data": {
      "text/plain": [
       "(array([ 2.,  0.,  1.,  1.,  0.,  0.,  1.,  4.,  3.,  0.,  6.,  2.,  6.,\n",
       "         4.,  6.,  3.,  8.,  6., 10.,  5., 13., 17., 10., 14., 10., 10.,\n",
       "        18., 19., 15., 12., 12., 12.,  8.,  8., 16.,  9.,  7.,  9.,  4.,\n",
       "         4.,  3.,  0.,  0.,  1.,  1.]),\n",
       " array([-4.14597457, -3.99916745, -3.85236034, -3.70555322, -3.55874611,\n",
       "        -3.411939  , -3.26513188, -3.11832477, -2.97151765, -2.82471054,\n",
       "        -2.67790343, -2.53109631, -2.3842892 , -2.23748208, -2.09067497,\n",
       "        -1.94386786, -1.79706074, -1.65025363, -1.50344651, -1.3566394 ,\n",
       "        -1.20983229, -1.06302517, -0.91621806, -0.76941094, -0.62260383,\n",
       "        -0.47579672, -0.3289896 , -0.18218249, -0.03537537,  0.11143174,\n",
       "         0.25823885,  0.40504597,  0.55185308,  0.6986602 ,  0.84546731,\n",
       "         0.99227442,  1.13908154,  1.28588865,  1.43269577,  1.57950288,\n",
       "         1.72630999,  1.87311711,  2.01992422,  2.16673134,  2.31353845,\n",
       "         2.46034556]),\n",
       " <BarContainer object of 45 artists>)"
      ]
     },
     "execution_count": 180,
     "metadata": {},
     "output_type": "execute_result"
    },
    {
     "data": {
      "image/png": "[encoded data removed]",
      "text/plain": [
       "<Figure size 432x288 with 1 Axes>"
      ]
     },
     "metadata": {
      "needs_background": "light"
     },
     "output_type": "display_data"
    }
   ],
   "source": [
    "plt.hist(z_study1_setting1_onegrouponly, bins=45)"
   ]
  },
  {
   "cell_type": "code",
   "execution_count": 181,
   "id": "a0b6f2fc",
   "metadata": {},
   "outputs": [],
   "source": [
    "gm = GaussianMixture(3, tol = 0.0001, max_iter = 1000000)"
   ]
  },
  {
   "cell_type": "code",
   "execution_count": 182,
   "id": "c04556b3",
   "metadata": {},
   "outputs": [],
   "source": [
    "z_study1_setting1_onegrouponly_df = pd.DataFrame(z_study1_setting1_onegrouponly)"
   ]
  },
  {
   "cell_type": "code",
   "execution_count": 183,
   "id": "de473d04",
   "metadata": {},
   "outputs": [],
   "source": [
    "z_study1_setting1_onegrouponly_pred = gm.fit_predict(z_study1_setting1_onegrouponly_df)"
   ]
  },
  {
   "cell_type": "code",
   "execution_count": 184,
   "id": "932accad",
   "metadata": {},
   "outputs": [
    {
     "data": {
      "text/html": [
       "<div>\n",
       "<style scoped>\n",
       "    .dataframe tbody tr th:only-of-type {\n",
       "        vertical-align: middle;\n",
       "    }\n",
       "\n",
       "    .dataframe tbody tr th {\n",
       "        vertical-align: top;\n",
       "    }\n",
       "\n",
       "    .dataframe thead th {\n",
       "        text-align: right;\n",
       "    }\n",
       "</style>\n",
       "<table border=\"1\" class=\"dataframe\">\n",
       "  <thead>\n",
       "    <tr style=\"text-align: right;\">\n",
       "      <th></th>\n",
       "      <th>pop1</th>\n",
       "      <th>pop2</th>\n",
       "    </tr>\n",
       "  </thead>\n",
       "  <tbody>\n",
       "    <tr>\n",
       "      <th>count</th>\n",
       "      <td>188.000000</td>\n",
       "      <td>112.000000</td>\n",
       "    </tr>\n",
       "    <tr>\n",
       "      <th>mean</th>\n",
       "      <td>0.359723</td>\n",
       "      <td>-1.680553</td>\n",
       "    </tr>\n",
       "    <tr>\n",
       "      <th>std</th>\n",
       "      <td>0.694526</td>\n",
       "      <td>0.796821</td>\n",
       "    </tr>\n",
       "    <tr>\n",
       "      <th>min</th>\n",
       "      <td>-0.744229</td>\n",
       "      <td>-4.145975</td>\n",
       "    </tr>\n",
       "    <tr>\n",
       "      <th>25%</th>\n",
       "      <td>-0.187787</td>\n",
       "      <td>-2.204437</td>\n",
       "    </tr>\n",
       "    <tr>\n",
       "      <th>50%</th>\n",
       "      <td>0.275262</td>\n",
       "      <td>-1.449129</td>\n",
       "    </tr>\n",
       "    <tr>\n",
       "      <th>75%</th>\n",
       "      <td>0.902267</td>\n",
       "      <td>-1.031431</td>\n",
       "    </tr>\n",
       "    <tr>\n",
       "      <th>max</th>\n",
       "      <td>2.460346</td>\n",
       "      <td>-0.751672</td>\n",
       "    </tr>\n",
       "  </tbody>\n",
       "</table>\n",
       "</div>"
      ],
      "text/plain": [
       "             pop1        pop2\n",
       "count  188.000000  112.000000\n",
       "mean     0.359723   -1.680553\n",
       "std      0.694526    0.796821\n",
       "min     -0.744229   -4.145975\n",
       "25%     -0.187787   -2.204437\n",
       "50%      0.275262   -1.449129\n",
       "75%      0.902267   -1.031431\n",
       "max      2.460346   -0.751672"
      ]
     },
     "execution_count": 184,
     "metadata": {},
     "output_type": "execute_result"
    }
   ],
   "source": [
    "# 2\n",
    "pop1 = z_study1_setting1_onegrouponly_df.loc[z_study1_setting1_onegrouponly_pred==0]\n",
    "pop2 = z_study1_setting1_onegrouponly_df.loc[z_study1_setting1_onegrouponly_pred==1] \n",
    "\n",
    "concat = pd.concat([pop1, pop2], axis=1)\n",
    "concat.columns = ['pop1', 'pop2']\n",
    "\n",
    "concat.describe()"
   ]
  },
  {
   "cell_type": "markdown",
   "id": "056e259e",
   "metadata": {},
   "source": [
    "## 1.1.) Another try, with reg_covar=0.0001"
   ]
  },
  {
   "cell_type": "code",
   "execution_count": 185,
   "id": "7555dff2",
   "metadata": {},
   "outputs": [
    {
     "data": {
      "text/html": [
       "<div>\n",
       "<style scoped>\n",
       "    .dataframe tbody tr th:only-of-type {\n",
       "        vertical-align: middle;\n",
       "    }\n",
       "\n",
       "    .dataframe tbody tr th {\n",
       "        vertical-align: top;\n",
       "    }\n",
       "\n",
       "    .dataframe thead th {\n",
       "        text-align: right;\n",
       "    }\n",
       "</style>\n",
       "<table border=\"1\" class=\"dataframe\">\n",
       "  <thead>\n",
       "    <tr style=\"text-align: right;\">\n",
       "      <th></th>\n",
       "      <th>pop1</th>\n",
       "      <th>pop2</th>\n",
       "    </tr>\n",
       "  </thead>\n",
       "  <tbody>\n",
       "    <tr>\n",
       "      <th>count</th>\n",
       "      <td>103.000000</td>\n",
       "      <td>197.000000</td>\n",
       "    </tr>\n",
       "    <tr>\n",
       "      <th>mean</th>\n",
       "      <td>-1.759630</td>\n",
       "      <td>0.307858</td>\n",
       "    </tr>\n",
       "    <tr>\n",
       "      <th>std</th>\n",
       "      <td>0.782520</td>\n",
       "      <td>0.718825</td>\n",
       "    </tr>\n",
       "    <tr>\n",
       "      <th>min</th>\n",
       "      <td>-4.145975</td>\n",
       "      <td>-0.795056</td>\n",
       "    </tr>\n",
       "    <tr>\n",
       "      <th>25%</th>\n",
       "      <td>-2.236458</td>\n",
       "      <td>-0.228702</td>\n",
       "    </tr>\n",
       "    <tr>\n",
       "      <th>50%</th>\n",
       "      <td>-1.580343</td>\n",
       "      <td>0.167625</td>\n",
       "    </tr>\n",
       "    <tr>\n",
       "      <th>75%</th>\n",
       "      <td>-1.102113</td>\n",
       "      <td>0.874874</td>\n",
       "    </tr>\n",
       "    <tr>\n",
       "      <th>max</th>\n",
       "      <td>-0.803874</td>\n",
       "      <td>2.460346</td>\n",
       "    </tr>\n",
       "  </tbody>\n",
       "</table>\n",
       "</div>"
      ],
      "text/plain": [
       "             pop1        pop2\n",
       "count  103.000000  197.000000\n",
       "mean    -1.759630    0.307858\n",
       "std      0.782520    0.718825\n",
       "min     -4.145975   -0.795056\n",
       "25%     -2.236458   -0.228702\n",
       "50%     -1.580343    0.167625\n",
       "75%     -1.102113    0.874874\n",
       "max     -0.803874    2.460346"
      ]
     },
     "execution_count": 185,
     "metadata": {},
     "output_type": "execute_result"
    }
   ],
   "source": [
    "gm = GaussianMixture(2, tol = 0.0001, reg_covar=0.02, max_iter = 1000000)\n",
    "z_study1_setting1_onegrouponly_df = pd.DataFrame(z_study1_setting1_onegrouponly)\n",
    "z_study1_setting1_onegrouponly_pred = gm.fit_predict(z_study1_setting1_onegrouponly_df)\n",
    "# 2\n",
    "pop1 = z_study1_setting1_onegrouponly_df.loc[z_study1_setting1_onegrouponly_pred==0]\n",
    "pop2 = z_study1_setting1_onegrouponly_df.loc[z_study1_setting1_onegrouponly_pred==1] \n",
    "\n",
    "concat = pd.concat([pop1, pop2], axis=1)\n",
    "concat.columns = ['pop1', 'pop2']\n",
    "\n",
    "concat.describe()"
   ]
  },
  {
   "cell_type": "code",
   "execution_count": 104,
   "id": "d94a3dfb",
   "metadata": {},
   "outputs": [
    {
     "data": {
      "text/html": [
       "<div>\n",
       "<style scoped>\n",
       "    .dataframe tbody tr th:only-of-type {\n",
       "        vertical-align: middle;\n",
       "    }\n",
       "\n",
       "    .dataframe tbody tr th {\n",
       "        vertical-align: top;\n",
       "    }\n",
       "\n",
       "    .dataframe thead th {\n",
       "        text-align: right;\n",
       "    }\n",
       "</style>\n",
       "<table border=\"1\" class=\"dataframe\">\n",
       "  <thead>\n",
       "    <tr style=\"text-align: right;\">\n",
       "      <th></th>\n",
       "      <th>pop1</th>\n",
       "      <th>pop2</th>\n",
       "    </tr>\n",
       "  </thead>\n",
       "  <tbody>\n",
       "    <tr>\n",
       "      <th>count</th>\n",
       "      <td>44.000000</td>\n",
       "      <td>256.000000</td>\n",
       "    </tr>\n",
       "    <tr>\n",
       "      <th>mean</th>\n",
       "      <td>-1.718738</td>\n",
       "      <td>0.154951</td>\n",
       "    </tr>\n",
       "    <tr>\n",
       "      <th>std</th>\n",
       "      <td>1.430496</td>\n",
       "      <td>0.846066</td>\n",
       "    </tr>\n",
       "    <tr>\n",
       "      <th>min</th>\n",
       "      <td>-4.393852</td>\n",
       "      <td>-1.291481</td>\n",
       "    </tr>\n",
       "    <tr>\n",
       "      <th>25%</th>\n",
       "      <td>-2.264965</td>\n",
       "      <td>-0.477099</td>\n",
       "    </tr>\n",
       "    <tr>\n",
       "      <th>50%</th>\n",
       "      <td>-1.701583</td>\n",
       "      <td>0.091051</td>\n",
       "    </tr>\n",
       "    <tr>\n",
       "      <th>75%</th>\n",
       "      <td>-1.481433</td>\n",
       "      <td>0.708787</td>\n",
       "    </tr>\n",
       "    <tr>\n",
       "      <th>max</th>\n",
       "      <td>2.964014</td>\n",
       "      <td>2.380066</td>\n",
       "    </tr>\n",
       "  </tbody>\n",
       "</table>\n",
       "</div>"
      ],
      "text/plain": [
       "            pop1        pop2\n",
       "count  44.000000  256.000000\n",
       "mean   -1.718738    0.154951\n",
       "std     1.430496    0.846066\n",
       "min    -4.393852   -1.291481\n",
       "25%    -2.264965   -0.477099\n",
       "50%    -1.701583    0.091051\n",
       "75%    -1.481433    0.708787\n",
       "max     2.964014    2.380066"
      ]
     },
     "execution_count": 104,
     "metadata": {},
     "output_type": "execute_result"
    }
   ],
   "source": [
    "# 2, tol = 0.0001, max_iter = 1000000\n",
    "concat.describe()"
   ]
  },
  {
   "cell_type": "code",
   "execution_count": 67,
   "id": "ebc4efb8",
   "metadata": {},
   "outputs": [
    {
     "data": {
      "text/html": [
       "<div>\n",
       "<style scoped>\n",
       "    .dataframe tbody tr th:only-of-type {\n",
       "        vertical-align: middle;\n",
       "    }\n",
       "\n",
       "    .dataframe tbody tr th {\n",
       "        vertical-align: top;\n",
       "    }\n",
       "\n",
       "    .dataframe thead th {\n",
       "        text-align: right;\n",
       "    }\n",
       "</style>\n",
       "<table border=\"1\" class=\"dataframe\">\n",
       "  <thead>\n",
       "    <tr style=\"text-align: right;\">\n",
       "      <th></th>\n",
       "      <th>pop1</th>\n",
       "      <th>pop2</th>\n",
       "    </tr>\n",
       "  </thead>\n",
       "  <tbody>\n",
       "    <tr>\n",
       "      <th>count</th>\n",
       "      <td>90.000000</td>\n",
       "      <td>210.000000</td>\n",
       "    </tr>\n",
       "    <tr>\n",
       "      <th>mean</th>\n",
       "      <td>-1.466271</td>\n",
       "      <td>0.457178</td>\n",
       "    </tr>\n",
       "    <tr>\n",
       "      <th>std</th>\n",
       "      <td>0.748645</td>\n",
       "      <td>0.755784</td>\n",
       "    </tr>\n",
       "    <tr>\n",
       "      <th>min</th>\n",
       "      <td>-4.393852</td>\n",
       "      <td>-0.647392</td>\n",
       "    </tr>\n",
       "    <tr>\n",
       "      <th>25%</th>\n",
       "      <td>-1.689309</td>\n",
       "      <td>-0.135267</td>\n",
       "    </tr>\n",
       "    <tr>\n",
       "      <th>50%</th>\n",
       "      <td>-1.229275</td>\n",
       "      <td>0.315011</td>\n",
       "    </tr>\n",
       "    <tr>\n",
       "      <th>75%</th>\n",
       "      <td>-0.945694</td>\n",
       "      <td>0.901571</td>\n",
       "    </tr>\n",
       "    <tr>\n",
       "      <th>max</th>\n",
       "      <td>-0.658487</td>\n",
       "      <td>2.964014</td>\n",
       "    </tr>\n",
       "  </tbody>\n",
       "</table>\n",
       "</div>"
      ],
      "text/plain": [
       "            pop1        pop2\n",
       "count  90.000000  210.000000\n",
       "mean   -1.466271    0.457178\n",
       "std     0.748645    0.755784\n",
       "min    -4.393852   -0.647392\n",
       "25%    -1.689309   -0.135267\n",
       "50%    -1.229275    0.315011\n",
       "75%    -0.945694    0.901571\n",
       "max    -0.658487    2.964014"
      ]
     },
     "execution_count": 67,
     "metadata": {},
     "output_type": "execute_result"
    }
   ],
   "source": [
    "# simple 2\n",
    "concat.describe()"
   ]
  },
  {
   "cell_type": "markdown",
   "id": "8dbc51d1",
   "metadata": {},
   "source": [
    "# 2.) AYP 2003 schools data estimating"
   ]
  },
  {
   "cell_type": "code",
   "execution_count": 193,
   "id": "4b5c4e37",
   "metadata": {},
   "outputs": [],
   "source": [
    "z_small = pd.read_csv('z_small.txt', header = None)\n",
    "z_medium = pd.read_csv('z_medium.txt', header = None)\n",
    "z_large = pd.read_csv('z_large.txt', header = None)"
   ]
  },
  {
   "cell_type": "code",
   "execution_count": 106,
   "id": "800c513b",
   "metadata": {},
   "outputs": [],
   "source": [
    "# Searching for 2 gaussians in the data\n",
    "gm_small = GaussianMixture(2, tol = 0.0001, max_iter = 1000000)\n",
    "gm_medium = GaussianMixture(2, tol = 0.0001, max_iter = 1000000)\n",
    "gm_large = GaussianMixture(2, tol = 0.0001, max_iter = 1000000)"
   ]
  },
  {
   "cell_type": "code",
   "execution_count": 107,
   "id": "2db4368e",
   "metadata": {},
   "outputs": [],
   "source": [
    "small_pred = gm_small.fit_predict(z_small)\n",
    "medium_pred = gm_small.fit_predict(z_medium)\n",
    "large_pred = gm_small.fit_predict(z_large)"
   ]
  },
  {
   "cell_type": "code",
   "execution_count": 109,
   "id": "e9a07c9a",
   "metadata": {},
   "outputs": [],
   "source": [
    "small_pop1, small_pop2 = z_small.loc[small_pred==0], z_small.loc[small_pred==1]\n",
    "medium_pop1, medium_pop2 = z_medium.loc[medium_pred==0], z_medium.loc[medium_pred==1]\n",
    "large_pop1, large_pop2 = z_large.loc[large_pred==0], z_large.loc[large_pred==1]"
   ]
  },
  {
   "cell_type": "code",
   "execution_count": 116,
   "id": "3ec01fb1",
   "metadata": {},
   "outputs": [
    {
     "data": {
      "text/html": [
       "<div>\n",
       "<style scoped>\n",
       "    .dataframe tbody tr th:only-of-type {\n",
       "        vertical-align: middle;\n",
       "    }\n",
       "\n",
       "    .dataframe tbody tr th {\n",
       "        vertical-align: top;\n",
       "    }\n",
       "\n",
       "    .dataframe thead th {\n",
       "        text-align: right;\n",
       "    }\n",
       "</style>\n",
       "<table border=\"1\" class=\"dataframe\">\n",
       "  <thead>\n",
       "    <tr style=\"text-align: right;\">\n",
       "      <th></th>\n",
       "      <th>small_pop1</th>\n",
       "      <th>small_pop2</th>\n",
       "      <th>medium_pop1</th>\n",
       "      <th>medium_pop2</th>\n",
       "      <th>large_pop1</th>\n",
       "      <th>large_pop2</th>\n",
       "    </tr>\n",
       "  </thead>\n",
       "  <tbody>\n",
       "    <tr>\n",
       "      <th>count</th>\n",
       "      <td>350.000000</td>\n",
       "      <td>74.000000</td>\n",
       "      <td>5557.000000</td>\n",
       "      <td>341.000000</td>\n",
       "      <td>676.000000</td>\n",
       "      <td>42.000000</td>\n",
       "    </tr>\n",
       "    <tr>\n",
       "      <th>mean</th>\n",
       "      <td>0.094294</td>\n",
       "      <td>-3.671954</td>\n",
       "      <td>-0.357217</td>\n",
       "      <td>-16.637405</td>\n",
       "      <td>-0.206244</td>\n",
       "      <td>-28.342893</td>\n",
       "    </tr>\n",
       "    <tr>\n",
       "      <th>std</th>\n",
       "      <td>1.127794</td>\n",
       "      <td>4.638250</td>\n",
       "      <td>2.002579</td>\n",
       "      <td>12.005380</td>\n",
       "      <td>4.685828</td>\n",
       "      <td>4.805137</td>\n",
       "    </tr>\n",
       "    <tr>\n",
       "      <th>min</th>\n",
       "      <td>-2.361973</td>\n",
       "      <td>-14.493800</td>\n",
       "      <td>-6.325634</td>\n",
       "      <td>-61.121656</td>\n",
       "      <td>-15.479359</td>\n",
       "      <td>-44.172585</td>\n",
       "    </tr>\n",
       "    <tr>\n",
       "      <th>25%</th>\n",
       "      <td>-0.732958</td>\n",
       "      <td>-6.103881</td>\n",
       "      <td>-1.613738</td>\n",
       "      <td>-24.005858</td>\n",
       "      <td>-2.666133</td>\n",
       "      <td>-30.113564</td>\n",
       "    </tr>\n",
       "    <tr>\n",
       "      <th>50%</th>\n",
       "      <td>0.110886</td>\n",
       "      <td>-4.364980</td>\n",
       "      <td>-0.314744</td>\n",
       "      <td>-19.554579</td>\n",
       "      <td>-0.072236</td>\n",
       "      <td>-27.736216</td>\n",
       "    </tr>\n",
       "    <tr>\n",
       "      <th>75%</th>\n",
       "      <td>0.818170</td>\n",
       "      <td>-2.891241</td>\n",
       "      <td>0.904646</td>\n",
       "      <td>-8.868717</td>\n",
       "      <td>2.459158</td>\n",
       "      <td>-25.948244</td>\n",
       "    </tr>\n",
       "    <tr>\n",
       "      <th>max</th>\n",
       "      <td>2.932008</td>\n",
       "      <td>13.514135</td>\n",
       "      <td>6.216559</td>\n",
       "      <td>46.546419</td>\n",
       "      <td>46.004786</td>\n",
       "      <td>-17.234053</td>\n",
       "    </tr>\n",
       "  </tbody>\n",
       "</table>\n",
       "</div>"
      ],
      "text/plain": [
       "       small_pop1  small_pop2  medium_pop1  medium_pop2  large_pop1  \\\n",
       "count  350.000000   74.000000  5557.000000   341.000000  676.000000   \n",
       "mean     0.094294   -3.671954    -0.357217   -16.637405   -0.206244   \n",
       "std      1.127794    4.638250     2.002579    12.005380    4.685828   \n",
       "min     -2.361973  -14.493800    -6.325634   -61.121656  -15.479359   \n",
       "25%     -0.732958   -6.103881    -1.613738   -24.005858   -2.666133   \n",
       "50%      0.110886   -4.364980    -0.314744   -19.554579   -0.072236   \n",
       "75%      0.818170   -2.891241     0.904646    -8.868717    2.459158   \n",
       "max      2.932008   13.514135     6.216559    46.546419   46.004786   \n",
       "\n",
       "       large_pop2  \n",
       "count   42.000000  \n",
       "mean   -28.342893  \n",
       "std      4.805137  \n",
       "min    -44.172585  \n",
       "25%    -30.113564  \n",
       "50%    -27.736216  \n",
       "75%    -25.948244  \n",
       "max    -17.234053  "
      ]
     },
     "execution_count": 116,
     "metadata": {},
     "output_type": "execute_result"
    }
   ],
   "source": [
    "conct = pd.concat([small_pop1, small_pop2, medium_pop1, medium_pop2, large_pop1, large_pop2], axis=1)\n",
    "conct.columns = ['small_pop1', 'small_pop2', 'medium_pop1', 'medium_pop2', 'large_pop1', 'large_pop2']\n",
    "conct.describe()"
   ]
  },
  {
   "cell_type": "code",
   "execution_count": 121,
   "id": "1caed2a0",
   "metadata": {},
   "outputs": [
    {
     "data": {
      "text/html": [
       "<div>\n",
       "<style scoped>\n",
       "    .dataframe tbody tr th:only-of-type {\n",
       "        vertical-align: middle;\n",
       "    }\n",
       "\n",
       "    .dataframe tbody tr th {\n",
       "        vertical-align: top;\n",
       "    }\n",
       "\n",
       "    .dataframe thead th {\n",
       "        text-align: right;\n",
       "    }\n",
       "</style>\n",
       "<table border=\"1\" class=\"dataframe\">\n",
       "  <thead>\n",
       "    <tr style=\"text-align: right;\">\n",
       "      <th></th>\n",
       "      <th>small_pop1</th>\n",
       "      <th>small_pop2</th>\n",
       "    </tr>\n",
       "  </thead>\n",
       "  <tbody>\n",
       "    <tr>\n",
       "      <th>count</th>\n",
       "      <td>350.000000</td>\n",
       "      <td>74.000000</td>\n",
       "    </tr>\n",
       "    <tr>\n",
       "      <th>mean</th>\n",
       "      <td>0.094294</td>\n",
       "      <td>-3.671954</td>\n",
       "    </tr>\n",
       "    <tr>\n",
       "      <th>std</th>\n",
       "      <td>1.127794</td>\n",
       "      <td>4.638250</td>\n",
       "    </tr>\n",
       "  </tbody>\n",
       "</table>\n",
       "</div>"
      ],
      "text/plain": [
       "       small_pop1  small_pop2\n",
       "count  350.000000   74.000000\n",
       "mean     0.094294   -3.671954\n",
       "std      1.127794    4.638250"
      ]
     },
     "execution_count": 121,
     "metadata": {},
     "output_type": "execute_result"
    }
   ],
   "source": [
    "conct[['small_pop1','small_pop2']].describe()[:3]"
   ]
  },
  {
   "cell_type": "code",
   "execution_count": 188,
   "id": "cbf2410b",
   "metadata": {
    "collapsed": true
   },
   "outputs": [
    {
     "data": {
      "text/plain": [
       "(array([1.000e+00, 1.000e+00, 0.000e+00, 0.000e+00, 0.000e+00, 0.000e+00,\n",
       "        0.000e+00, 1.000e+00, 0.000e+00, 0.000e+00, 2.000e+00, 1.000e+00,\n",
       "        2.000e+00, 3.000e+00, 1.600e+01, 2.100e+01, 2.900e+01, 4.300e+01,\n",
       "        3.700e+01, 3.300e+01, 1.900e+01, 1.200e+01, 1.300e+01, 1.900e+01,\n",
       "        2.900e+01, 1.140e+02, 4.410e+02, 1.638e+03, 2.391e+03, 8.360e+02,\n",
       "        1.560e+02, 2.900e+01, 3.000e+00, 2.000e+00, 0.000e+00, 0.000e+00,\n",
       "        1.000e+00, 1.000e+00, 1.000e+00, 0.000e+00, 0.000e+00, 0.000e+00,\n",
       "        0.000e+00, 1.000e+00, 1.000e+00, 0.000e+00, 0.000e+00, 0.000e+00,\n",
       "        0.000e+00, 1.000e+00]),\n",
       " array([-61.1216561 , -58.9682946 , -56.8149331 , -54.66157161,\n",
       "        -52.50821011, -50.35484861, -48.20148712, -46.04812562,\n",
       "        -43.89476412, -41.74140263, -39.58804113, -37.43467964,\n",
       "        -35.28131814, -33.12795664, -30.97459515, -28.82123365,\n",
       "        -26.66787215, -24.51451066, -22.36114916, -20.20778766,\n",
       "        -18.05442617, -15.90106467, -13.74770317, -11.59434168,\n",
       "         -9.44098018,  -7.28761868,  -5.13425719,  -2.98089569,\n",
       "         -0.8275342 ,   1.3258273 ,   3.4791888 ,   5.63255029,\n",
       "          7.78591179,   9.93927329,  12.09263478,  14.24599628,\n",
       "         16.39935778,  18.55271927,  20.70608077,  22.85944227,\n",
       "         25.01280376,  27.16616526,  29.31952676,  31.47288825,\n",
       "         33.62624975,  35.77961124,  37.93297274,  40.08633424,\n",
       "         42.23969573,  44.39305723,  46.54641873]),\n",
       " <BarContainer object of 50 artists>)"
      ]
     },
     "execution_count": 188,
     "metadata": {},
     "output_type": "execute_result"
    },
    {
     "data": {
      "image/png": "[encoded data removed]",
      "text/plain": [
       "<Figure size 432x288 with 1 Axes>"
      ]
     },
     "metadata": {
      "needs_background": "light"
     },
     "output_type": "display_data"
    }
   ],
   "source": [
    "plt.hist(z_medium,bins = 50)"
   ]
  },
  {
   "cell_type": "code",
   "execution_count": 112,
   "id": "1d007f0d",
   "metadata": {
    "collapsed": true
   },
   "outputs": [
    {
     "data": {
      "text/plain": [
       "(array([ 1.,  0.,  0.,  0.,  1.,  0.,  0.,  0.,  1.,  1.,  3.,  5.,  3.,\n",
       "         8.,  4.,  9.,  6.,  9.,  6., 15., 28., 43., 68., 70., 68., 32.,\n",
       "        22., 11.,  5.,  1.,  1.,  0.,  0.,  0.,  0.,  0.,  0.,  0.,  0.,\n",
       "         0.,  1.,  1.,  0.,  0.,  1.]),\n",
       " array([-14.49380019, -13.87140163, -13.24900307, -12.62660451,\n",
       "        -12.00420594, -11.38180738, -10.75940882, -10.13701026,\n",
       "         -9.5146117 ,  -8.89221314,  -8.26981458,  -7.64741602,\n",
       "         -7.02501746,  -6.4026189 ,  -5.78022034,  -5.15782178,\n",
       "         -4.53542322,  -3.91302466,  -3.2906261 ,  -2.66822754,\n",
       "         -2.04582898,  -1.42343042,  -0.80103185,  -0.17863329,\n",
       "          0.44376527,   1.06616383,   1.68856239,   2.31096095,\n",
       "          2.93335951,   3.55575807,   4.17815663,   4.80055519,\n",
       "          5.42295375,   6.04535231,   6.66775087,   7.29014943,\n",
       "          7.91254799,   8.53494655,   9.15734511,   9.77974368,\n",
       "         10.40214224,  11.0245408 ,  11.64693936,  12.26933792,\n",
       "         12.89173648,  13.51413504]),\n",
       " <BarContainer object of 45 artists>)"
      ]
     },
     "execution_count": 112,
     "metadata": {},
     "output_type": "execute_result"
    },
    {
     "data": {
      "image/png": "[encoded data removed]",
      "text/plain": [
       "<Figure size 432x288 with 1 Axes>"
      ]
     },
     "metadata": {
      "needs_background": "light"
     },
     "output_type": "display_data"
    }
   ],
   "source": [
    "plt.hist(z_small,bins = 45)"
   ]
  },
  {
   "cell_type": "code",
   "execution_count": 122,
   "id": "867d03fe",
   "metadata": {},
   "outputs": [
    {
     "data": {
      "text/html": [
       "<div>\n",
       "<style scoped>\n",
       "    .dataframe tbody tr th:only-of-type {\n",
       "        vertical-align: middle;\n",
       "    }\n",
       "\n",
       "    .dataframe tbody tr th {\n",
       "        vertical-align: top;\n",
       "    }\n",
       "\n",
       "    .dataframe thead th {\n",
       "        text-align: right;\n",
       "    }\n",
       "</style>\n",
       "<table border=\"1\" class=\"dataframe\">\n",
       "  <thead>\n",
       "    <tr style=\"text-align: right;\">\n",
       "      <th></th>\n",
       "      <th>medium_pop1</th>\n",
       "      <th>medium_pop2</th>\n",
       "    </tr>\n",
       "  </thead>\n",
       "  <tbody>\n",
       "    <tr>\n",
       "      <th>count</th>\n",
       "      <td>5557.000000</td>\n",
       "      <td>341.000000</td>\n",
       "    </tr>\n",
       "    <tr>\n",
       "      <th>mean</th>\n",
       "      <td>-0.357217</td>\n",
       "      <td>-16.637405</td>\n",
       "    </tr>\n",
       "    <tr>\n",
       "      <th>std</th>\n",
       "      <td>2.002579</td>\n",
       "      <td>12.005380</td>\n",
       "    </tr>\n",
       "  </tbody>\n",
       "</table>\n",
       "</div>"
      ],
      "text/plain": [
       "       medium_pop1  medium_pop2\n",
       "count  5557.000000   341.000000\n",
       "mean     -0.357217   -16.637405\n",
       "std       2.002579    12.005380"
      ]
     },
     "execution_count": 122,
     "metadata": {},
     "output_type": "execute_result"
    }
   ],
   "source": [
    "conct[['medium_pop1','medium_pop2']].describe()[:3]"
   ]
  },
  {
   "cell_type": "code",
   "execution_count": 114,
   "id": "0ae57f8d",
   "metadata": {
    "collapsed": true
   },
   "outputs": [
    {
     "data": {
      "text/plain": [
       "(array([1.000e+00, 1.000e+00, 0.000e+00, 0.000e+00, 0.000e+00, 0.000e+00,\n",
       "        1.000e+00, 0.000e+00, 0.000e+00, 2.000e+00, 1.000e+00, 4.000e+00,\n",
       "        4.000e+00, 2.400e+01, 2.800e+01, 4.700e+01, 4.000e+01, 3.700e+01,\n",
       "        2.000e+01, 1.300e+01, 1.600e+01, 2.100e+01, 6.500e+01, 2.980e+02,\n",
       "        1.358e+03, 2.676e+03, 1.045e+03, 1.620e+02, 2.300e+01, 4.000e+00,\n",
       "        1.000e+00, 0.000e+00, 1.000e+00, 1.000e+00, 1.000e+00, 0.000e+00,\n",
       "        0.000e+00, 0.000e+00, 1.000e+00, 0.000e+00, 1.000e+00, 0.000e+00,\n",
       "        0.000e+00, 0.000e+00, 1.000e+00]),\n",
       " array([-61.1216561 , -58.72903221, -56.33640833, -53.94378444,\n",
       "        -51.55116056, -49.15853667, -46.76591279, -44.3732889 ,\n",
       "        -41.98066502, -39.58804113, -37.19541725, -34.80279336,\n",
       "        -32.41016948, -30.01754559, -27.62492171, -25.23229782,\n",
       "        -22.83967394, -20.44705005, -18.05442617, -15.66180228,\n",
       "        -13.2691784 , -10.87655451,  -8.48393063,  -6.09130674,\n",
       "         -3.69868286,  -1.30605897,   1.08656491,   3.4791888 ,\n",
       "          5.87181268,   8.26443657,  10.65706045,  13.04968434,\n",
       "         15.44230822,  17.83493211,  20.22755599,  22.62017988,\n",
       "         25.01280376,  27.40542765,  29.79805153,  32.19067542,\n",
       "         34.5832993 ,  36.97592319,  39.36854707,  41.76117096,\n",
       "         44.15379484,  46.54641873]),\n",
       " <BarContainer object of 45 artists>)"
      ]
     },
     "execution_count": 114,
     "metadata": {},
     "output_type": "execute_result"
    },
    {
     "data": {
      "image/png": "[encoded data removed]",
      "text/plain": [
       "<Figure size 432x288 with 1 Axes>"
      ]
     },
     "metadata": {
      "needs_background": "light"
     },
     "output_type": "display_data"
    }
   ],
   "source": [
    "plt.hist(z_medium, bins=45)"
   ]
  },
  {
   "cell_type": "code",
   "execution_count": 123,
   "id": "aa4ea6ea",
   "metadata": {},
   "outputs": [
    {
     "data": {
      "text/html": [
       "<div>\n",
       "<style scoped>\n",
       "    .dataframe tbody tr th:only-of-type {\n",
       "        vertical-align: middle;\n",
       "    }\n",
       "\n",
       "    .dataframe tbody tr th {\n",
       "        vertical-align: top;\n",
       "    }\n",
       "\n",
       "    .dataframe thead th {\n",
       "        text-align: right;\n",
       "    }\n",
       "</style>\n",
       "<table border=\"1\" class=\"dataframe\">\n",
       "  <thead>\n",
       "    <tr style=\"text-align: right;\">\n",
       "      <th></th>\n",
       "      <th>large_pop1</th>\n",
       "      <th>large_pop2</th>\n",
       "    </tr>\n",
       "  </thead>\n",
       "  <tbody>\n",
       "    <tr>\n",
       "      <th>count</th>\n",
       "      <td>676.000000</td>\n",
       "      <td>42.000000</td>\n",
       "    </tr>\n",
       "    <tr>\n",
       "      <th>mean</th>\n",
       "      <td>-0.206244</td>\n",
       "      <td>-28.342893</td>\n",
       "    </tr>\n",
       "    <tr>\n",
       "      <th>std</th>\n",
       "      <td>4.685828</td>\n",
       "      <td>4.805137</td>\n",
       "    </tr>\n",
       "  </tbody>\n",
       "</table>\n",
       "</div>"
      ],
      "text/plain": [
       "       large_pop1  large_pop2\n",
       "count  676.000000   42.000000\n",
       "mean    -0.206244  -28.342893\n",
       "std      4.685828    4.805137"
      ]
     },
     "execution_count": 123,
     "metadata": {},
     "output_type": "execute_result"
    }
   ],
   "source": [
    "conct[['large_pop1','large_pop2']].describe()[:3]"
   ]
  },
  {
   "cell_type": "code",
   "execution_count": 115,
   "id": "5bb8572f",
   "metadata": {
    "collapsed": true
   },
   "outputs": [
    {
     "data": {
      "text/plain": [
       "(array([  1.,   0.,   0.,   2.,   1.,   4.,   3.,   8.,  11.,   7.,   2.,\n",
       "          1.,   1.,   1.,   2.,   5.,   9.,  13.,  21.,  53.,  94., 138.,\n",
       "        142., 107.,  63.,  19.,   6.,   2.,   0.,   0.,   0.,   0.,   0.,\n",
       "          0.,   0.,   0.,   0.,   0.,   0.,   0.,   0.,   0.,   1.,   0.,\n",
       "          1.]),\n",
       " array([-44.1725853 , -42.16864372, -40.16470214, -38.16076056,\n",
       "        -36.15681898, -34.1528774 , -32.14893582, -30.14499424,\n",
       "        -28.14105266, -26.13711108, -24.1331695 , -22.12922792,\n",
       "        -20.12528633, -18.12134475, -16.11740317, -14.11346159,\n",
       "        -12.10952001, -10.10557843,  -8.10163685,  -6.09769527,\n",
       "         -4.09375369,  -2.08981211,  -0.08587053,   1.91807105,\n",
       "          3.92201263,   5.92595421,   7.9298958 ,   9.93383738,\n",
       "         11.93777896,  13.94172054,  15.94566212,  17.9496037 ,\n",
       "         19.95354528,  21.95748686,  23.96142844,  25.96537002,\n",
       "         27.9693116 ,  29.97325318,  31.97719476,  33.98113634,\n",
       "         35.98507792,  37.98901951,  39.99296109,  41.99690267,\n",
       "         44.00084425,  46.00478583]),\n",
       " <BarContainer object of 45 artists>)"
      ]
     },
     "execution_count": 115,
     "metadata": {},
     "output_type": "execute_result"
    },
    {
     "data": {
      "image/png": "[encoded data removed]",
      "text/plain": [
       "<Figure size 432x288 with 1 Axes>"
      ]
     },
     "metadata": {
      "needs_background": "light"
     },
     "output_type": "display_data"
    }
   ],
   "source": [
    "plt.hist(z_large, bins=45)"
   ]
  },
  {
   "cell_type": "markdown",
   "id": "25855046",
   "metadata": {},
   "source": [
    "### 2.1.) Playing with parameters"
   ]
  },
  {
   "cell_type": "code",
   "execution_count": null,
   "id": "a94bfe2a",
   "metadata": {},
   "outputs": [],
   "source": [
    "# gm_small = GaussianMixture(2, tol = 0.0001, reg_covar=0.02 , max_iter = 1000000)"
   ]
  },
  {
   "cell_type": "code",
   "execution_count": 166,
   "id": "8755dd30",
   "metadata": {},
   "outputs": [
    {
     "data": {
      "text/html": [
       "<div>\n",
       "<style scoped>\n",
       "    .dataframe tbody tr th:only-of-type {\n",
       "        vertical-align: middle;\n",
       "    }\n",
       "\n",
       "    .dataframe tbody tr th {\n",
       "        vertical-align: top;\n",
       "    }\n",
       "\n",
       "    .dataframe thead th {\n",
       "        text-align: right;\n",
       "    }\n",
       "</style>\n",
       "<table border=\"1\" class=\"dataframe\">\n",
       "  <thead>\n",
       "    <tr style=\"text-align: right;\">\n",
       "      <th></th>\n",
       "      <th>small_pop1</th>\n",
       "      <th>small_pop2</th>\n",
       "    </tr>\n",
       "  </thead>\n",
       "  <tbody>\n",
       "    <tr>\n",
       "      <th>count</th>\n",
       "      <td>350.000000</td>\n",
       "      <td>74.000000</td>\n",
       "    </tr>\n",
       "    <tr>\n",
       "      <th>mean</th>\n",
       "      <td>0.094294</td>\n",
       "      <td>-3.671954</td>\n",
       "    </tr>\n",
       "  </tbody>\n",
       "</table>\n",
       "</div>"
      ],
      "text/plain": [
       "       small_pop1  small_pop2\n",
       "count  350.000000   74.000000\n",
       "mean     0.094294   -3.671954"
      ]
     },
     "execution_count": 166,
     "metadata": {},
     "output_type": "execute_result"
    }
   ],
   "source": [
    "gm_small = GaussianMixture(2, tol = 0.0001, reg_covar=0.0001, max_iter = 1000000)\n",
    "gm_medium = GaussianMixture(2, tol = 0.0001, max_iter = 1000000)\n",
    "gm_large = GaussianMixture(2, tol = 0.0001, max_iter = 1000000)\n",
    "\n",
    "small_pred = gm_small.fit_predict(z_small)\n",
    "medium_pred = gm_small.fit_predict(z_medium)\n",
    "large_pred = gm_small.fit_predict(z_large)\n",
    "\n",
    "small_pop1, small_pop2 = z_small.loc[small_pred==0], z_small.loc[small_pred==1]\n",
    "medium_pop1, medium_pop2 = z_medium.loc[medium_pred==0], z_medium.loc[medium_pred==1]\n",
    "large_pop1, large_pop2 = z_large.loc[large_pred==0], z_large.loc[large_pred==1]\n",
    "\n",
    "conct = pd.concat([small_pop1, small_pop2, medium_pop1, medium_pop2, large_pop1, large_pop2], axis=1)\n",
    "conct.columns = ['small_pop1', 'small_pop2', 'medium_pop1', 'medium_pop2', 'large_pop1', 'large_pop2']\n",
    "conct[['small_pop1', 'small_pop2']].describe()[:2]"
   ]
  },
  {
   "cell_type": "code",
   "execution_count": 142,
   "id": "c28bc454",
   "metadata": {},
   "outputs": [
    {
     "data": {
      "text/plain": [
       "1.000001"
      ]
     },
     "execution_count": 142,
     "metadata": {},
     "output_type": "execute_result"
    }
   ],
   "source": [
    "1e-6 + 1"
   ]
  },
  {
   "cell_type": "markdown",
   "id": "cfad53f0",
   "metadata": {},
   "source": [
    "# 3.) Tuning parameters towards the results of R mixfdr setting for J=5 in z_medium"
   ]
  },
  {
   "attachments": {
    "j5.JPG": {
     "image/jpeg": "[encoded data removed]"
    }
   },
   "cell_type": "markdown",
   "id": "4cd3b187",
   "metadata": {},
   "source": [
    "![j5.JPG](attachment:j5.JPG)"
   ]
  },
  {
   "cell_type": "code",
   "execution_count": 2,
   "id": "8d109173",
   "metadata": {},
   "outputs": [],
   "source": [
    "z_small = pd.read_csv('z_small.txt', header = None)\n",
    "z_medium = pd.read_csv('z_medium.txt', header = None)\n",
    "z_large = pd.read_csv('z_large.txt', header = None)"
   ]
  },
  {
   "cell_type": "code",
   "execution_count": 3,
   "id": "0d23e25f",
   "metadata": {},
   "outputs": [
    {
     "data": {
      "text/plain": [
       "(5898, 1)"
      ]
     },
     "execution_count": 3,
     "metadata": {},
     "output_type": "execute_result"
    }
   ],
   "source": [
    "z_medium.shape"
   ]
  },
  {
   "cell_type": "code",
   "execution_count": 76,
   "id": "d0ef512e",
   "metadata": {},
   "outputs": [
    {
     "data": {
      "text/plain": [
       "5467.446"
      ]
     },
     "execution_count": 76,
     "metadata": {},
     "output_type": "execute_result"
    }
   ],
   "source": [
    "5898 * 0.927"
   ]
  },
  {
   "cell_type": "code",
   "execution_count": 132,
   "id": "fafa930e",
   "metadata": {},
   "outputs": [
    {
     "data": {
      "text/plain": [
       "176.94"
      ]
     },
     "execution_count": 132,
     "metadata": {},
     "output_type": "execute_result"
    }
   ],
   "source": [
    "5898 *0.03"
   ]
  },
  {
   "cell_type": "code",
   "execution_count": 133,
   "id": "90f45f96",
   "metadata": {},
   "outputs": [
    {
     "data": {
      "text/plain": [
       "34.7982"
      ]
     },
     "execution_count": 133,
     "metadata": {},
     "output_type": "execute_result"
    }
   ],
   "source": [
    "5898 *0.0059"
   ]
  },
  {
   "cell_type": "code",
   "execution_count": 4,
   "id": "87b73222",
   "metadata": {},
   "outputs": [
    {
     "data": {
      "text/plain": [
       "pandas.core.frame.DataFrame"
      ]
     },
     "execution_count": 4,
     "metadata": {},
     "output_type": "execute_result"
    }
   ],
   "source": [
    "type(z_medium)"
   ]
  },
  {
   "cell_type": "code",
   "execution_count": 5,
   "id": "a136be77",
   "metadata": {},
   "outputs": [],
   "source": [
    "#gm = GaussianMixture(5, tol = 0.00001, max_iter = 1000000)"
   ]
  },
  {
   "cell_type": "code",
   "execution_count": 189,
   "id": "1310494e",
   "metadata": {},
   "outputs": [
    {
     "data": {
      "text/html": [
       "<div>\n",
       "<style scoped>\n",
       "    .dataframe tbody tr th:only-of-type {\n",
       "        vertical-align: middle;\n",
       "    }\n",
       "\n",
       "    .dataframe tbody tr th {\n",
       "        vertical-align: top;\n",
       "    }\n",
       "\n",
       "    .dataframe thead th {\n",
       "        text-align: right;\n",
       "    }\n",
       "</style>\n",
       "<table border=\"1\" class=\"dataframe\">\n",
       "  <thead>\n",
       "    <tr style=\"text-align: right;\">\n",
       "      <th></th>\n",
       "      <th>pop1</th>\n",
       "      <th>pop2</th>\n",
       "      <th>pop3</th>\n",
       "      <th>pop4</th>\n",
       "      <th>pop5</th>\n",
       "    </tr>\n",
       "  </thead>\n",
       "  <tbody>\n",
       "    <tr>\n",
       "      <th>count</th>\n",
       "      <td>5440.000000</td>\n",
       "      <td>13.000000</td>\n",
       "      <td>214.000000</td>\n",
       "      <td>7.000000</td>\n",
       "      <td>224.000000</td>\n",
       "    </tr>\n",
       "    <tr>\n",
       "      <th>mean</th>\n",
       "      <td>-0.287335</td>\n",
       "      <td>-7.134301</td>\n",
       "      <td>-4.790441</td>\n",
       "      <td>5.506533</td>\n",
       "      <td>-22.392654</td>\n",
       "    </tr>\n",
       "    <tr>\n",
       "      <th>std</th>\n",
       "      <td>1.862589</td>\n",
       "      <td>39.222587</td>\n",
       "      <td>5.152981</td>\n",
       "      <td>0.108344</td>\n",
       "      <td>4.660543</td>\n",
       "    </tr>\n",
       "    <tr>\n",
       "      <th>min</th>\n",
       "      <td>-4.962753</td>\n",
       "      <td>-61.121656</td>\n",
       "      <td>-12.101422</td>\n",
       "      <td>5.359562</td>\n",
       "      <td>-33.709964</td>\n",
       "    </tr>\n",
       "    <tr>\n",
       "      <th>25%</th>\n",
       "      <td>-1.529583</td>\n",
       "      <td>-39.096540</td>\n",
       "      <td>-7.258569</td>\n",
       "      <td>5.450387</td>\n",
       "      <td>-25.423724</td>\n",
       "    </tr>\n",
       "    <tr>\n",
       "      <th>50%</th>\n",
       "      <td>-0.280270</td>\n",
       "      <td>11.047364</td>\n",
       "      <td>-5.933382</td>\n",
       "      <td>5.498082</td>\n",
       "      <td>-22.513672</td>\n",
       "    </tr>\n",
       "    <tr>\n",
       "      <th>75%</th>\n",
       "      <td>0.909568</td>\n",
       "      <td>22.336694</td>\n",
       "      <td>-5.208385</td>\n",
       "      <td>5.542500</td>\n",
       "      <td>-19.321605</td>\n",
       "    </tr>\n",
       "    <tr>\n",
       "      <th>max</th>\n",
       "      <td>5.236190</td>\n",
       "      <td>46.546419</td>\n",
       "      <td>10.154604</td>\n",
       "      <td>5.702310</td>\n",
       "      <td>-12.467536</td>\n",
       "    </tr>\n",
       "  </tbody>\n",
       "</table>\n",
       "</div>"
      ],
      "text/plain": [
       "              pop1       pop2        pop3      pop4        pop5\n",
       "count  5440.000000  13.000000  214.000000  7.000000  224.000000\n",
       "mean     -0.287335  -7.134301   -4.790441  5.506533  -22.392654\n",
       "std       1.862589  39.222587    5.152981  0.108344    4.660543\n",
       "min      -4.962753 -61.121656  -12.101422  5.359562  -33.709964\n",
       "25%      -1.529583 -39.096540   -7.258569  5.450387  -25.423724\n",
       "50%      -0.280270  11.047364   -5.933382  5.498082  -22.513672\n",
       "75%       0.909568  22.336694   -5.208385  5.542500  -19.321605\n",
       "max       5.236190  46.546419   10.154604  5.702310  -12.467536"
      ]
     },
     "execution_count": 189,
     "metadata": {},
     "output_type": "execute_result"
    }
   ],
   "source": [
    "gm = GaussianMixture(5, tol = 0.0000015, reg_covar = 0.2, max_iter = 1000000)\n",
    "pred = gm.fit_predict(z_medium)\n",
    "## 5\n",
    "pop1, pop2, pop3, pop4, pop5 = z_medium.loc[pred==0], z_medium.loc[pred==1], z_medium.loc[pred==2], z_medium.loc[pred==3], z_medium.loc[pred==4] \n",
    "\n",
    "## 5\n",
    "concat = pd.concat([pop1, pop2, pop3, pop4, pop5], axis=1)\n",
    "concat.columns = ['pop1', 'pop2', 'pop3', 'pop4', 'pop5']\n",
    "concat.describe()\n",
    "\n",
    "# MEDIUM"
   ]
  },
  {
   "cell_type": "code",
   "execution_count": 215,
   "id": "aff766f7",
   "metadata": {},
   "outputs": [
    {
     "data": {
      "text/plain": [
       "5898"
      ]
     },
     "execution_count": 215,
     "metadata": {},
     "output_type": "execute_result"
    }
   ],
   "source": [
    "#214/\n",
    "z_medium.shape[0]"
   ]
  },
  {
   "cell_type": "code",
   "execution_count": null,
   "id": "5e1eba11",
   "metadata": {},
   "outputs": [],
   "source": [
    "# 1, 2, 4 are the null distributions"
   ]
  },
  {
   "cell_type": "code",
   "execution_count": null,
   "id": "507fc05b",
   "metadata": {},
   "outputs": [],
   "source": [
    "# tied - - gm = GaussianMixture(5, covariance_type=\"tied\", tol = 0.00001, max_iter = 1000000)\n",
    "0.00001 >> 5640 / 5545"
   ]
  },
  {
   "cell_type": "code",
   "execution_count": 27,
   "id": "c87d7ab0",
   "metadata": {
    "collapsed": true
   },
   "outputs": [
    {
     "ename": "TypeError",
     "evalue": "unsupported operand type(s) for >>: 'float' and 'int'",
     "output_type": "error",
     "traceback": [
      "\u001b[1;31m---------------------------------------------------------------------------\u001b[0m",
      "\u001b[1;31mTypeError\u001b[0m                                 Traceback (most recent call last)",
      "\u001b[1;32m~\\AppData\\Local\\Temp/ipykernel_12380/1898443693.py\u001b[0m in \u001b[0;36m<module>\u001b[1;34m\u001b[0m\n\u001b[1;32m----> 1\u001b[1;33m \u001b[1;36m0.0001\u001b[0m  \u001b[1;33m>>\u001b[0m \u001b[1;36m4136\u001b[0m\u001b[1;33m\u001b[0m\u001b[1;33m\u001b[0m\u001b[0m\n\u001b[0m\u001b[0;32m      2\u001b[0m \u001b[1;36m0.00001\u001b[0m  \u001b[1;33m>>\u001b[0m \u001b[1;36m4846\u001b[0m\u001b[1;33m\u001b[0m\u001b[1;33m\u001b[0m\u001b[0m\n\u001b[0;32m      3\u001b[0m \u001b[1;36m0.000001\u001b[0m \u001b[1;33m>>\u001b[0m \u001b[1;36m4443\u001b[0m\u001b[1;33m\u001b[0m\u001b[1;33m\u001b[0m\u001b[0m\n",
      "\u001b[1;31mTypeError\u001b[0m: unsupported operand type(s) for >>: 'float' and 'int'"
     ]
    }
   ],
   "source": [
    "0.0001  >> 4136\n",
    "0.00001  >> 4875.000000 |  reg_covar = 0.01 >> 4944 | reg_covar = 0.1 >> 5276 | reg_covar = 0.2 >> 5367\n",
    "0.000001 >> 4443\n",
    "\n",
    "# FOUND THE RIGHT PARAMETERS - AROUND gm = GaussianMixture(5, tol = 0.0000015, reg_covar = 0.2, max_iter = 1000000)"
   ]
  },
  {
   "cell_type": "code",
   "execution_count": 190,
   "id": "3ef1585c",
   "metadata": {},
   "outputs": [
    {
     "data": {
      "text/html": [
       "<div>\n",
       "<style scoped>\n",
       "    .dataframe tbody tr th:only-of-type {\n",
       "        vertical-align: middle;\n",
       "    }\n",
       "\n",
       "    .dataframe tbody tr th {\n",
       "        vertical-align: top;\n",
       "    }\n",
       "\n",
       "    .dataframe thead th {\n",
       "        text-align: right;\n",
       "    }\n",
       "</style>\n",
       "<table border=\"1\" class=\"dataframe\">\n",
       "  <thead>\n",
       "    <tr style=\"text-align: right;\">\n",
       "      <th></th>\n",
       "      <th>pop1</th>\n",
       "      <th>pop2</th>\n",
       "      <th>pop3</th>\n",
       "      <th>pop4</th>\n",
       "      <th>pop5</th>\n",
       "    </tr>\n",
       "  </thead>\n",
       "  <tbody>\n",
       "    <tr>\n",
       "      <th>count</th>\n",
       "      <td>347.000000</td>\n",
       "      <td>3.000000</td>\n",
       "      <td>19.000000</td>\n",
       "      <td>53.000000</td>\n",
       "      <td>2.000000</td>\n",
       "    </tr>\n",
       "    <tr>\n",
       "      <th>mean</th>\n",
       "      <td>-0.061637</td>\n",
       "      <td>11.867877</td>\n",
       "      <td>2.936356</td>\n",
       "      <td>-5.334494</td>\n",
       "      <td>-13.000060</td>\n",
       "    </tr>\n",
       "    <tr>\n",
       "      <th>std</th>\n",
       "      <td>1.113600</td>\n",
       "      <td>1.438391</td>\n",
       "      <td>0.627412</td>\n",
       "      <td>1.620718</td>\n",
       "      <td>2.112468</td>\n",
       "    </tr>\n",
       "    <tr>\n",
       "      <th>min</th>\n",
       "      <td>-2.885443</td>\n",
       "      <td>10.854104</td>\n",
       "      <td>2.272653</td>\n",
       "      <td>-9.347986</td>\n",
       "      <td>-14.493800</td>\n",
       "    </tr>\n",
       "    <tr>\n",
       "      <th>25%</th>\n",
       "      <td>-0.815527</td>\n",
       "      <td>11.044749</td>\n",
       "      <td>2.465547</td>\n",
       "      <td>-6.357254</td>\n",
       "      <td>-13.746930</td>\n",
       "    </tr>\n",
       "    <tr>\n",
       "      <th>50%</th>\n",
       "      <td>-0.017365</td>\n",
       "      <td>11.235393</td>\n",
       "      <td>2.752676</td>\n",
       "      <td>-5.036904</td>\n",
       "      <td>-13.000060</td>\n",
       "    </tr>\n",
       "    <tr>\n",
       "      <th>75%</th>\n",
       "      <td>0.742870</td>\n",
       "      <td>12.374764</td>\n",
       "      <td>3.237118</td>\n",
       "      <td>-3.963450</td>\n",
       "      <td>-12.253190</td>\n",
       "    </tr>\n",
       "    <tr>\n",
       "      <th>max</th>\n",
       "      <td>2.248370</td>\n",
       "      <td>13.514135</td>\n",
       "      <td>4.719876</td>\n",
       "      <td>-2.908635</td>\n",
       "      <td>-11.506319</td>\n",
       "    </tr>\n",
       "  </tbody>\n",
       "</table>\n",
       "</div>"
      ],
      "text/plain": [
       "             pop1       pop2       pop3       pop4       pop5\n",
       "count  347.000000   3.000000  19.000000  53.000000   2.000000\n",
       "mean    -0.061637  11.867877   2.936356  -5.334494 -13.000060\n",
       "std      1.113600   1.438391   0.627412   1.620718   2.112468\n",
       "min     -2.885443  10.854104   2.272653  -9.347986 -14.493800\n",
       "25%     -0.815527  11.044749   2.465547  -6.357254 -13.746930\n",
       "50%     -0.017365  11.235393   2.752676  -5.036904 -13.000060\n",
       "75%      0.742870  12.374764   3.237118  -3.963450 -12.253190\n",
       "max      2.248370  13.514135   4.719876  -2.908635 -11.506319"
      ]
     },
     "execution_count": 190,
     "metadata": {},
     "output_type": "execute_result"
    }
   ],
   "source": [
    "# SMALL\n",
    "\n",
    "gm = GaussianMixture(5, tol = 0.0000015, reg_covar = 0.2, max_iter = 1000000)\n",
    "pred = gm.fit_predict(z_small)\n",
    "## 5\n",
    "pop1, pop2, pop3, pop4, pop5 = z_small.loc[pred==0], z_small.loc[pred==1], z_small.loc[pred==2], z_small.loc[pred==3], z_small.loc[pred==4] \n",
    "\n",
    "## 5\n",
    "concat = pd.concat([pop1, pop2, pop3, pop4, pop5], axis=1)\n",
    "concat.columns = ['pop1', 'pop2', 'pop3', 'pop4', 'pop5']\n",
    "concat.describe()\n",
    "\n",
    "# SMALL"
   ]
  },
  {
   "cell_type": "code",
   "execution_count": 213,
   "id": "908fea8b",
   "metadata": {},
   "outputs": [
    {
     "data": {
      "text/plain": [
       "424"
      ]
     },
     "execution_count": 213,
     "metadata": {},
     "output_type": "execute_result"
    }
   ],
   "source": [
    "#53/\n",
    "z_small.shape[0]"
   ]
  },
  {
   "cell_type": "code",
   "execution_count": 191,
   "id": "d930c426",
   "metadata": {},
   "outputs": [
    {
     "data": {
      "text/html": [
       "<div>\n",
       "<style scoped>\n",
       "    .dataframe tbody tr th:only-of-type {\n",
       "        vertical-align: middle;\n",
       "    }\n",
       "\n",
       "    .dataframe tbody tr th {\n",
       "        vertical-align: top;\n",
       "    }\n",
       "\n",
       "    .dataframe thead th {\n",
       "        text-align: right;\n",
       "    }\n",
       "</style>\n",
       "<table border=\"1\" class=\"dataframe\">\n",
       "  <thead>\n",
       "    <tr style=\"text-align: right;\">\n",
       "      <th></th>\n",
       "      <th>pop1</th>\n",
       "      <th>pop2</th>\n",
       "      <th>pop3</th>\n",
       "      <th>pop4</th>\n",
       "      <th>pop5</th>\n",
       "    </tr>\n",
       "  </thead>\n",
       "  <tbody>\n",
       "    <tr>\n",
       "      <th>count</th>\n",
       "      <td>156.000000</td>\n",
       "      <td>41.000000</td>\n",
       "      <td>44.000000</td>\n",
       "      <td>475.000000</td>\n",
       "      <td>2.000000</td>\n",
       "    </tr>\n",
       "    <tr>\n",
       "      <th>mean</th>\n",
       "      <td>4.575323</td>\n",
       "      <td>-28.613840</td>\n",
       "      <td>-9.924868</td>\n",
       "      <td>-1.095425</td>\n",
       "      <td>43.307953</td>\n",
       "    </tr>\n",
       "    <tr>\n",
       "      <th>std</th>\n",
       "      <td>1.637080</td>\n",
       "      <td>4.528374</td>\n",
       "      <td>2.573272</td>\n",
       "      <td>2.301686</td>\n",
       "      <td>3.813898</td>\n",
       "    </tr>\n",
       "    <tr>\n",
       "      <th>min</th>\n",
       "      <td>2.599288</td>\n",
       "      <td>-44.172585</td>\n",
       "      <td>-17.234053</td>\n",
       "      <td>-6.548246</td>\n",
       "      <td>40.611120</td>\n",
       "    </tr>\n",
       "    <tr>\n",
       "      <th>25%</th>\n",
       "      <td>3.335547</td>\n",
       "      <td>-30.217801</td>\n",
       "      <td>-11.672689</td>\n",
       "      <td>-2.768097</td>\n",
       "      <td>41.959536</td>\n",
       "    </tr>\n",
       "    <tr>\n",
       "      <th>50%</th>\n",
       "      <td>4.191597</td>\n",
       "      <td>-27.816143</td>\n",
       "      <td>-9.283342</td>\n",
       "      <td>-0.844625</td>\n",
       "      <td>43.307953</td>\n",
       "    </tr>\n",
       "    <tr>\n",
       "      <th>75%</th>\n",
       "      <td>5.146313</td>\n",
       "      <td>-25.971451</td>\n",
       "      <td>-7.931764</td>\n",
       "      <td>0.789716</td>\n",
       "      <td>44.656369</td>\n",
       "    </tr>\n",
       "    <tr>\n",
       "      <th>max</th>\n",
       "      <td>10.526613</td>\n",
       "      <td>-18.873944</td>\n",
       "      <td>-6.708534</td>\n",
       "      <td>2.557259</td>\n",
       "      <td>46.004786</td>\n",
       "    </tr>\n",
       "  </tbody>\n",
       "</table>\n",
       "</div>"
      ],
      "text/plain": [
       "             pop1       pop2       pop3        pop4       pop5\n",
       "count  156.000000  41.000000  44.000000  475.000000   2.000000\n",
       "mean     4.575323 -28.613840  -9.924868   -1.095425  43.307953\n",
       "std      1.637080   4.528374   2.573272    2.301686   3.813898\n",
       "min      2.599288 -44.172585 -17.234053   -6.548246  40.611120\n",
       "25%      3.335547 -30.217801 -11.672689   -2.768097  41.959536\n",
       "50%      4.191597 -27.816143  -9.283342   -0.844625  43.307953\n",
       "75%      5.146313 -25.971451  -7.931764    0.789716  44.656369\n",
       "max     10.526613 -18.873944  -6.708534    2.557259  46.004786"
      ]
     },
     "execution_count": 191,
     "metadata": {},
     "output_type": "execute_result"
    }
   ],
   "source": [
    "# LARGE\n",
    "\n",
    "gm = GaussianMixture(5, tol = 0.0000015, reg_covar = 0.2, max_iter = 1000000)\n",
    "pred = gm.fit_predict(z_large)\n",
    "## 5\n",
    "pop1, pop2, pop3, pop4, pop5 = z_large.loc[pred==0], z_large.loc[pred==1], z_large.loc[pred==2], z_large.loc[pred==3], z_large.loc[pred==4] \n",
    "\n",
    "## 5\n",
    "concat = pd.concat([pop1, pop2, pop3, pop4, pop5], axis=1)\n",
    "concat.columns = ['pop1', 'pop2', 'pop3', 'pop4', 'pop5']\n",
    "concat.describe()\n",
    "\n",
    "\n",
    "# LARGE"
   ]
  },
  {
   "cell_type": "code",
   "execution_count": 214,
   "id": "aa6214b2",
   "metadata": {},
   "outputs": [
    {
     "data": {
      "text/plain": [
       "718"
      ]
     },
     "execution_count": 214,
     "metadata": {},
     "output_type": "execute_result"
    }
   ],
   "source": [
    "#44/\n",
    "z_large.shape[0]"
   ]
  },
  {
   "cell_type": "code",
   "execution_count": null,
   "id": "a7ba3db5",
   "metadata": {},
   "outputs": [],
   "source": [
    "# 1, 4, 5 are the nulls"
   ]
  },
  {
   "cell_type": "markdown",
   "id": "21ca004a",
   "metadata": {},
   "source": [
    "# 4.) BACK UP"
   ]
  },
  {
   "attachments": {
    "5dist.png": {
     "image/png": "[encoded data removed]"
    }
   },
   "cell_type": "markdown",
   "id": "e5a927a5",
   "metadata": {},
   "source": [
    "![5dist.png](attachment:5dist.png)"
   ]
  },
  {
   "cell_type": "code",
   "execution_count": null,
   "id": "923c802f",
   "metadata": {},
   "outputs": [],
   "source": []
  },
  {
   "cell_type": "code",
   "execution_count": null,
   "id": "2e4b2de6",
   "metadata": {},
   "outputs": [],
   "source": [
    "# everything becomes a nested list of 3X5\n",
    "\n",
    "num_hypo = [[[347],[19],[2],[3],[53]], # SMALL - FIRST 3 IS THE NULL\n",
    "            [[5440],[13],[7],[214],[224]], # MEDIUM - FIRST 3 IS THE NULL\n",
    "            [[156],[475],[2],[41],[44]]] # LARGE - FIRST 3 IS THE NULL\n",
    "\n",
    "prob_to_1 = [[[0.818],[0.044],[0.004],[0.007],[0.125]], # SMALL - FIRST 3 IS THE NULL\n",
    "            [[0.922],[0.002],[0.001],[0.036],[0.037]], # MEDIUM - FIRST 3 IS THE NULL\n",
    "            [[0.217],[0.661],[0.0027],[0.057],[0.061]]] # LARGE - FIRST 3 IS THE NULL\n",
    "\n",
    "mu0 = [[[-0.061],[2.93],[-13]], # SMALL\n",
    "      [[-0.287],[-7.13],[5.506]], # MEDIUM \n",
    "      [[4.575],[-1.095],[43.3079]]] # LARGE \n",
    "\n",
    "mu1 = [[[11.867],[-5.334]], # SMALL \n",
    "      [[-4.79],[-22.392]], # MEDIUM \n",
    "      [[-28.613],[-9.924]]] # LARGE\n",
    "\n",
    "# You should write here the REAL variance (sigma^2) [BTW, they're independent, not as in the DEPENDENT setting code]\n",
    "\n",
    "variance_0 = [[[1.24],[0.3936],[4.4625]], # SMALL \n",
    "             [[3.4692],[1538.411],[0.0117]], # MEDIUM \n",
    "             [[2.68],[5.2977],[14.5458]]] # LARGE\n",
    "\n",
    "variance_1 = [[[2.0689],[2.6267]], # SMALL \n",
    "             [[26.5532],[21.7206]], # MEDIUM \n",
    "             [[20.5061],[6.6217]]] # LARGE "
   ]
  }
 ],
 "metadata": {
  "kernelspec": {
   "display_name": "Python 3 (ipykernel)",
   "language": "python",
   "name": "python3"
  },
  "language_info": {
   "codemirror_mode": {
    "name": "ipython",
    "version": 3
   },
   "file_extension": ".py",
   "mimetype": "text/x-python",
   "name": "python",
   "nbconvert_exporter": "python",
   "pygments_lexer": "ipython3",
   "version": "3.9.7"
  }
 },
 "nbformat": 4,
 "nbformat_minor": 5
}
