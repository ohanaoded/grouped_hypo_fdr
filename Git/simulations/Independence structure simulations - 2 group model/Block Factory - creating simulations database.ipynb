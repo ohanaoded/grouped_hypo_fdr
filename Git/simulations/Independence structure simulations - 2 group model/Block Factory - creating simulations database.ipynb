{
 "cells": [
  {
   "cell_type": "code",
   "execution_count": 1,
   "id": "eb68e5df",
   "metadata": {},
   "outputs": [],
   "source": [
    "import numpy as np\n",
    "import math\n",
    "import scipy.stats as stats\n",
    "from scipy.linalg import sqrtm\n",
    "import scipy\n",
    "import matplotlib.pyplot as plt\n",
    "import time\n",
    "import datetime\n",
    "import random\n",
    "\n",
    "import numba\n",
    "from numba import jit, njit\n",
    "from numba.typed import List"
   ]
  },
  {
   "cell_type": "markdown",
   "id": "77ca979a",
   "metadata": {},
   "source": [
    "# 1.) functions"
   ]
  },
  {
   "cell_type": "code",
   "execution_count": 2,
   "id": "36fd7daf",
   "metadata": {},
   "outputs": [],
   "source": [
    "def my_rbeta(num_hypo, prob_to_1, mu0, mu1, variance_0, variance_1, with_h = False): \n",
    "    \n",
    "    # Z & vector h\n",
    "    Z_vec = np.random.normal(0,1,num_hypo)\n",
    "    vec_h = np.random.binomial(1, p=prob_to_1, size=num_hypo)\n",
    "\n",
    "    # mu's\n",
    "    mu_vec_1 = vec_h * mu1 \n",
    "    mu_vec_1_0 = np.where(mu_vec_1 == 0, mu0, mu_vec_1)\n",
    "\n",
    "    # variance & std err\n",
    "    var_vec_1 = vec_h * variance_1\n",
    "    var_vec_1_0 = np.where(var_vec_1 == 0, variance_0, var_vec_1)\n",
    "    sqrt_var_vec_1_0 = np.sqrt(var_vec_1_0)\n",
    "    \n",
    "    if not with_h:\n",
    "        return sqrt_var_vec_1_0 * (Z_vec + mu_vec_1_0)\n",
    "    else:\n",
    "        return sqrt_var_vec_1_0 * (Z_vec + mu_vec_1_0), vec_h\n",
    "    "
   ]
  },
  {
   "cell_type": "markdown",
   "id": "c94ed1ac",
   "metadata": {},
   "source": [
    "# 2.) Factory"
   ]
  },
  {
   "cell_type": "markdown",
   "id": "d55ce2f5",
   "metadata": {},
   "source": [
    "### 2.1.) Study 1# - 1 "
   ]
  },
  {
   "cell_type": "markdown",
   "id": "311595b5",
   "metadata": {},
   "source": [
    "- i need to do a MACRO loop all over the p1_ array"
   ]
  },
  {
   "cell_type": "code",
   "execution_count": 3,
   "id": "16a12403",
   "metadata": {},
   "outputs": [
    {
     "name": "stdout",
     "output_type": "stream",
     "text": [
      "Wall time: 23.2 s\n"
     ]
    }
   ],
   "source": [
    "%%time\n",
    "### SETTING: Study 1# - 1.) 1/10\n",
    "\n",
    "alpha = 0.05\n",
    "\n",
    "num_hypo = [3000, 1500]\n",
    "prob_to_1 = [0.3, 0.1]\n",
    "\n",
    "mu0 = [0, 0]\n",
    "mu1 = [-2, 4]\n",
    "\n",
    "variance_0 = [1, 1]\n",
    "variance_1 = [1, 1]\n",
    "\n",
    "\n",
    "\n",
    "# Blocks building\n",
    "\n",
    "simulation_1_1_1_10 = []\n",
    "block_of_blockbeta = []\n",
    "block_of_vec_h = []\n",
    "\n",
    "for i in range(30000): # 30000\n",
    "    \n",
    "    # each run is for 2 groups of hypotheses, so we have to have a list of its data locally, and add it to the general iteration\n",
    "    blockbeta_local_two_groups = []\n",
    "    vec_h_local_two_groups = []\n",
    "    \n",
    "    for i in range(len(mu0)):    \n",
    "        blockbeta, vec_h = block_beta, vec_h = my_rbeta(num_hypo[i], \n",
    "                                     prob_to_1[i], \n",
    "                                     mu0[i], \n",
    "                                     mu1[i], \n",
    "                                     variance_0[i], \n",
    "                                     variance_1[i],\n",
    "                                     True)\n",
    "        blockbeta_local_two_groups.append(blockbeta)\n",
    "        vec_h_local_two_groups.append(vec_h)\n",
    "        \n",
    "    block_of_blockbeta.append(blockbeta_local_two_groups)\n",
    "    block_of_vec_h.append(vec_h_local_two_groups)\n",
    "\n",
    "simulation_1_1_1_10.append(block_of_blockbeta)\n",
    "simulation_1_1_1_10.append(block_of_vec_h)\n",
    "\n",
    "#np.save('BLOCK_simulation_1_1_1_10', simulation_1_1_1_10)\n",
    "#simulation_1_1_1_10"
   ]
  },
  {
   "cell_type": "code",
   "execution_count": 5,
   "id": "c39a2df5",
   "metadata": {},
   "outputs": [
    {
     "name": "stderr",
     "output_type": "stream",
     "text": [
      "C:\\Users\\ahron\\anaconda3\\lib\\site-packages\\numpy\\core\\_asarray.py:171: VisibleDeprecationWarning: Creating an ndarray from ragged nested sequences (which is a list-or-tuple of lists-or-tuples-or ndarrays with different lengths or shapes) is deprecated. If you meant to do this, you must specify 'dtype=object' when creating the ndarray.\n",
      "  return array(a, dtype, copy=False, order=order, subok=True)\n"
     ]
    }
   ],
   "source": [
    "np.save('BLOCK_simulation_1_1_1_10', simulation_1_1_1_10)\n"
   ]
  },
  {
   "cell_type": "code",
   "execution_count": 7,
   "id": "187e36ab",
   "metadata": {
    "collapsed": true
   },
   "outputs": [
    {
     "data": {
      "text/plain": [
       "array([[[array([-0.22776531, -1.94400873,  0.15629744, ..., -0.31280594,\n",
       "                 0.6149906 , -3.59109659])                              ,\n",
       "         array([ 0.31024019, -0.1357289 , -0.62647739, ..., -1.34666477,\n",
       "                -0.1508148 , -1.15500825])                              ],\n",
       "        [array([-0.41525232, -2.8390879 , -1.99251977, ..., -0.2304303 ,\n",
       "                -1.87617448, -1.070783  ])                              ,\n",
       "         array([-0.40382709,  1.43690603,  0.3132543 , ..., -1.02934071,\n",
       "                 1.48297296, -0.32239518])                              ],\n",
       "        [array([-3.41503097, -2.81820511, -0.08565484, ..., -1.48860521,\n",
       "                -2.06901002, -1.19115514])                              ,\n",
       "         array([ 1.87015173,  0.70344016, -0.78494309, ...,  1.02705905,\n",
       "                 1.16007997,  1.14100524])                              ],\n",
       "        ...,\n",
       "        [array([ 0.14038805,  1.2938197 ,  0.30864423, ...,  1.83507018,\n",
       "                -1.6323378 ,  0.2394701 ])                              ,\n",
       "         array([ 4.4762906 , -1.52564301, -1.18853189, ...,  3.70737811,\n",
       "                -0.19157704,  1.29628245])                              ],\n",
       "        [array([ 1.25134086, -1.33409471, -3.38664821, ...,  0.24336409,\n",
       "                 0.60942139, -0.37665244])                              ,\n",
       "         array([ 0.98977619,  0.15122895, -0.90656854, ...,  0.26350697,\n",
       "                 0.58110749,  1.17432997])                              ],\n",
       "        [array([-1.087629  ,  0.13147447, -0.21923214, ..., -1.6563298 ,\n",
       "                -0.09923881,  0.34729013])                              ,\n",
       "         array([-0.69494302,  0.98140279,  0.05137045, ...,  1.25898315,\n",
       "                 1.1358393 , -0.1980692 ])                              ]],\n",
       "\n",
       "       [[array([0, 1, 0, ..., 0, 0, 1]), array([0, 0, 0, ..., 0, 0, 0])],\n",
       "        [array([0, 1, 1, ..., 0, 0, 0]), array([0, 0, 0, ..., 0, 0, 0])],\n",
       "        [array([1, 1, 0, ..., 1, 1, 0]), array([0, 0, 0, ..., 0, 0, 0])],\n",
       "        ...,\n",
       "        [array([0, 0, 0, ..., 0, 1, 0]), array([1, 0, 0, ..., 1, 0, 0])],\n",
       "        [array([0, 1, 1, ..., 0, 0, 0]), array([0, 0, 0, ..., 0, 0, 0])],\n",
       "        [array([0, 0, 0, ..., 1, 0, 0]), array([0, 0, 0, ..., 0, 0, 0])]]],\n",
       "      dtype=object)"
      ]
     },
     "execution_count": 7,
     "metadata": {},
     "output_type": "execute_result"
    }
   ],
   "source": [
    "BLOCK_simulation_1_1_1_10_ = np.load('BLOCK_simulation_1_1_1_10.npy', allow_pickle = True)\n",
    "BLOCK_simulation_1_1_1_10_"
   ]
  },
  {
   "cell_type": "code",
   "execution_count": 10,
   "id": "b15a2d8c",
   "metadata": {},
   "outputs": [
    {
     "data": {
      "text/plain": [
       "2"
      ]
     },
     "execution_count": 10,
     "metadata": {},
     "output_type": "execute_result"
    }
   ],
   "source": [
    "len(BLOCK_simulation_1_1_1_10_[0][0])"
   ]
  },
  {
   "cell_type": "code",
   "execution_count": 16,
   "id": "74898538",
   "metadata": {
    "collapsed": true
   },
   "outputs": [
    {
     "ename": "IndexError",
     "evalue": "index 2 is out of bounds for axis 0 with size 2",
     "output_type": "error",
     "traceback": [
      "\u001b[1;31m---------------------------------------------------------------------------\u001b[0m",
      "\u001b[1;31mIndexError\u001b[0m                                Traceback (most recent call last)",
      "\u001b[1;32m~\\AppData\\Local\\Temp/ipykernel_12892/2787736640.py\u001b[0m in \u001b[0;36m<module>\u001b[1;34m\u001b[0m\n\u001b[1;32m----> 1\u001b[1;33m \u001b[0mBLOCK_simulation_1_1_1_10_\u001b[0m\u001b[1;33m[\u001b[0m\u001b[1;36m2\u001b[0m\u001b[1;33m]\u001b[0m\u001b[1;33m\u001b[0m\u001b[1;33m\u001b[0m\u001b[0m\n\u001b[0m",
      "\u001b[1;31mIndexError\u001b[0m: index 2 is out of bounds for axis 0 with size 2"
     ]
    }
   ],
   "source": [
    "BLOCK_simulation_1_1_1_10_[2]"
   ]
  },
  {
   "cell_type": "code",
   "execution_count": 21,
   "id": "1aa6b591",
   "metadata": {
    "collapsed": true
   },
   "outputs": [
    {
     "name": "stdout",
     "output_type": "stream",
     "text": [
      "4\n",
      "4\n",
      "4\n"
     ]
    }
   ],
   "source": [
    "ahalan = ['a','b','c']\n",
    "for letter in ahalan:\n",
    "    letter = 4\n",
    "    print(letter)\n",
    "#a, b, c"
   ]
  },
  {
   "cell_type": "code",
   "execution_count": 23,
   "id": "ae5d4f76",
   "metadata": {},
   "outputs": [
    {
     "ename": "NameError",
     "evalue": "name 'a' is not defined",
     "output_type": "error",
     "traceback": [
      "\u001b[1;31m---------------------------------------------------------------------------\u001b[0m",
      "\u001b[1;31mNameError\u001b[0m                                 Traceback (most recent call last)",
      "\u001b[1;32m~\\AppData\\Local\\Temp/ipykernel_12892/2167009006.py\u001b[0m in \u001b[0;36m<module>\u001b[1;34m\u001b[0m\n\u001b[1;32m----> 1\u001b[1;33m \u001b[0ma\u001b[0m\u001b[1;33m\u001b[0m\u001b[1;33m\u001b[0m\u001b[0m\n\u001b[0m",
      "\u001b[1;31mNameError\u001b[0m: name 'a' is not defined"
     ]
    }
   ],
   "source": []
  },
  {
   "cell_type": "code",
   "execution_count": null,
   "id": "c910157c",
   "metadata": {},
   "outputs": [],
   "source": []
  }
 ],
 "metadata": {
  "kernelspec": {
   "display_name": "Python 3 (ipykernel)",
   "language": "python",
   "name": "python3"
  },
  "language_info": {
   "codemirror_mode": {
    "name": "ipython",
    "version": 3
   },
   "file_extension": ".py",
   "mimetype": "text/x-python",
   "name": "python",
   "nbconvert_exporter": "python",
   "pygments_lexer": "ipython3",
   "version": "3.9.7"
  }
 },
 "nbformat": 4,
 "nbformat_minor": 5
}
