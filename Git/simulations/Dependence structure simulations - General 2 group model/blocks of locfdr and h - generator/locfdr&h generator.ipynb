{
 "cells": [
  {
   "cell_type": "code",
   "execution_count": 1,
   "id": "39470846",
   "metadata": {},
   "outputs": [],
   "source": [
    "import dependent_functions_copy as d_f\n",
    "import time\n",
    "import numpy as np"
   ]
  },
  {
   "cell_type": "code",
   "execution_count": 2,
   "id": "89eb0e86",
   "metadata": {},
   "outputs": [],
   "source": [
    "# setting\n",
    "\n",
    "mu0 = [0, 0]\n",
    "variance_0 = [1, 1]\n",
    "mu1 = [-1.5, 1]\n",
    "variance_1 = [0.01, 1]\n",
    "\n",
    "number_of_blocks = [1000, 800]\n",
    "number_block_members = [5, 5] \n",
    "\n",
    "Rho = [0.5, 0.5]  \n",
    "prob_to_1 = [0.3, 0.2]"
   ]
  },
  {
   "cell_type": "code",
   "execution_count": 3,
   "id": "81377ba1",
   "metadata": {},
   "outputs": [],
   "source": [
    "# Approx. 41 min for a 5000 maxiter run \n",
    "\n",
    "# maxiter 50 = 17 sec\n",
    "# maxiter 500 = 2 min 24 sec\n",
    "# maxiter 5000 = 30 min 8 sec\n",
    "\n",
    "maxiter = 5000 #000  \n",
    "\n",
    "number_of_intances = 1"
   ]
  },
  {
   "cell_type": "code",
   "execution_count": 4,
   "id": "53a7c7d8",
   "metadata": {},
   "outputs": [
    {
     "name": "stdout",
     "output_type": "stream",
     "text": [
      "@@@@@@@@@@@@@@@@@@@@@@@@@@@@@@@@@@@@@@@@@@@@@@@@@@@@@@@@@@@@@@@@@@@@@@ This is the 0 iteration.\n",
      " * * * BLOCKS START: \n",
      " * * * BLOCKS time: 5.512507915496826\n",
      " * * * BLOCK BETA START: \n",
      "A\n",
      "b\n",
      "new_h\n",
      "new_c\n",
      "sqrtmat\n",
      "beta\n",
      " * * * BLOCK BETA time: 682.3279395103455\n",
      " * * * AANDB LOCFDR GENERATOR START: \n",
      "loop no.: 0\n",
      "loop no.: 1\n",
      "loop no.: 2\n",
      "loop no.: 3\n",
      " * * * AANDB LOCFDR GENERATOR time: 380.26774430274963\n",
      " * * * BLOCKS START: \n",
      " * * * BLOCKS time: 2.1773862838745117\n",
      " * * * BLOCK BETA START: \n",
      "A\n",
      "b\n",
      "new_h\n",
      "new_c\n",
      "sqrtmat\n",
      "beta\n",
      " * * * BLOCK BETA time: 468.64076590538025\n",
      " * * * AANDB LOCFDR GENERATOR START: \n",
      "loop no.: 0\n",
      "loop no.: 1\n",
      "loop no.: 2\n",
      "loop no.: 3\n",
      " * * * AANDB LOCFDR GENERATOR time: 269.02730345726013\n",
      "@@@@@@@@@@@@@@@@@@@@@@@@@@@@@@@@@@@@@@@@@@@@@@@@@@@@@@@@@@@@@@@@@@@@@@ ITERATION time: 1808.046367406845\n",
      "Wall time: 30min 8s\n"
     ]
    }
   ],
   "source": [
    "%%time\n",
    "block_of_locfdr1 = []\n",
    "block_of_locfdr2 = []\n",
    "block_of_vech1 = []\n",
    "block_of_vech2 = []\n",
    "\n",
    "for i in range(number_of_intances):\n",
    "    print(f\"@@@@@@@@@@@@@@@@@@@@@@@@@@@@@@@@@@@@@@@@@@@@@@@@@@@@@@@@@@@@@@@@@@@@@@ This is the {i} iteration.\")\n",
    "    start = time.time() \n",
    "    \n",
    "    locfdr_unpacked, vec_h_unpacked = d_f.locfdr_generator_all_groups(mu0, variance_0, mu1, variance_1, \n",
    "                                                                 number_of_blocks, number_block_members, \n",
    "                                                                 Rho, prob_to_1, maxiter)\n",
    "    block_of_locfdr1.append(locfdr_unpacked[0]) \n",
    "    block_of_locfdr2.append(locfdr_unpacked[1]) \n",
    "    block_of_vech1.append(vec_h_unpacked[0]) \n",
    "    block_of_vech2.append(vec_h_unpacked[1]) \n",
    "    \n",
    "    stop = time.time()\n",
    "    duration = stop-start\n",
    "    print(\"@@@@@@@@@@@@@@@@@@@@@@@@@@@@@@@@@@@@@@@@@@@@@@@@@@@@@@@@@@@@@@@@@@@@@@ ITERATION time: \" + str(duration))\n",
    "\n",
    "# np.save('block_of_locfdr1',block_of_locfdr1)\n",
    "# np.save('block_of_locfdr2',block_of_locfdr2)\n",
    "# np.save('block_of_vech1',block_of_vech1)\n",
    "# np.save('block_of_vech2',block_of_vech2)\n",
    "\n",
    "# block_of_locfdr1_ = np.load('block_of_locfdr1.npy')\n",
    "# block_of_locfdr2_ = np.load('block_of_locfdr2.npy')\n",
    "# block_of_vech1_ = np.load('block_of_vech1.npy')\n",
    "# block_of_vech2_ = np.load('block_of_vech2.npy')"
   ]
  },
  {
   "cell_type": "code",
   "execution_count": null,
   "id": "3d0ec1db",
   "metadata": {},
   "outputs": [],
   "source": []
  },
  {
   "cell_type": "code",
   "execution_count": 9,
   "id": "f2a5ff4a",
   "metadata": {
    "collapsed": true
   },
   "outputs": [
    {
     "data": {
      "text/plain": [
       "([array([[[0.95735848],\n",
       "          [0.94048497],\n",
       "          [0.04199682],\n",
       "          ...,\n",
       "          [0.81131926],\n",
       "          [0.96670611],\n",
       "          [0.79356843]],\n",
       "  \n",
       "         [[0.89659155],\n",
       "          [0.47481459],\n",
       "          [0.98009096],\n",
       "          ...,\n",
       "          [0.89979585],\n",
       "          [0.25194538],\n",
       "          [0.98257427]],\n",
       "  \n",
       "         [[0.99491291],\n",
       "          [0.97619512],\n",
       "          [0.9851819 ],\n",
       "          ...,\n",
       "          [0.95946091],\n",
       "          [0.83337639],\n",
       "          [0.98978878]],\n",
       "  \n",
       "         [[0.69443092],\n",
       "          [0.99123149],\n",
       "          [0.18828768],\n",
       "          ...,\n",
       "          [0.75221937],\n",
       "          [0.6401055 ],\n",
       "          [0.66024813]],\n",
       "  \n",
       "         [[0.68739835],\n",
       "          [0.99263314],\n",
       "          [0.98957674],\n",
       "          ...,\n",
       "          [0.99717834],\n",
       "          [0.98748886],\n",
       "          [0.28666496]]])],\n",
       " [array([[[0.8759476 ],\n",
       "          [0.90904372],\n",
       "          [0.91295521],\n",
       "          ...,\n",
       "          [0.71376828],\n",
       "          [0.85117779],\n",
       "          [0.46032493]],\n",
       "  \n",
       "         [[0.85946948],\n",
       "          [0.8866748 ],\n",
       "          [0.89747509],\n",
       "          ...,\n",
       "          [0.91351784],\n",
       "          [0.91147501],\n",
       "          [0.86246203]],\n",
       "  \n",
       "         [[0.89147374],\n",
       "          [0.36584684],\n",
       "          [0.38279917],\n",
       "          ...,\n",
       "          [0.89253118],\n",
       "          [0.87332695],\n",
       "          [0.56115566]],\n",
       "  \n",
       "         [[0.91246064],\n",
       "          [0.79352624],\n",
       "          [0.89781634],\n",
       "          ...,\n",
       "          [0.66430957],\n",
       "          [0.90917843],\n",
       "          [0.91286922]],\n",
       "  \n",
       "         [[0.91166668],\n",
       "          [0.89201516],\n",
       "          [0.39019722],\n",
       "          ...,\n",
       "          [0.71689558],\n",
       "          [0.90052393],\n",
       "          [0.87310467]]])],\n",
       " [array([[[0, 0, 1, 0, 0],\n",
       "          [0, 1, 0, 0, 0],\n",
       "          [1, 1, 0, 1, 1],\n",
       "          ...,\n",
       "          [0, 1, 0, 1, 0],\n",
       "          [1, 0, 0, 0, 0],\n",
       "          [0, 1, 0, 0, 0]],\n",
       "  \n",
       "         [[0, 0, 0, 0, 0],\n",
       "          [0, 0, 0, 1, 1],\n",
       "          [1, 0, 0, 1, 1],\n",
       "          ...,\n",
       "          [1, 0, 0, 0, 0],\n",
       "          [0, 0, 1, 0, 0],\n",
       "          [0, 0, 0, 1, 0]],\n",
       "  \n",
       "         [[0, 0, 0, 1, 0],\n",
       "          [0, 0, 0, 1, 0],\n",
       "          [0, 1, 1, 1, 0],\n",
       "          ...,\n",
       "          [0, 0, 0, 1, 0],\n",
       "          [0, 0, 1, 0, 0],\n",
       "          [0, 1, 0, 0, 0]],\n",
       "  \n",
       "         [[0, 0, 1, 0, 0],\n",
       "          [0, 0, 0, 1, 0],\n",
       "          [0, 0, 0, 0, 1],\n",
       "          ...,\n",
       "          [0, 0, 0, 0, 0],\n",
       "          [1, 1, 0, 1, 0],\n",
       "          [1, 0, 0, 0, 0]],\n",
       "  \n",
       "         [[0, 0, 0, 0, 0],\n",
       "          [0, 0, 0, 0, 1],\n",
       "          [0, 1, 0, 1, 0],\n",
       "          ...,\n",
       "          [0, 1, 1, 0, 1],\n",
       "          [0, 0, 0, 1, 0],\n",
       "          [0, 0, 0, 0, 1]]])],\n",
       " [array([[[0, 0, 0, 0, 0],\n",
       "          [0, 0, 0, 0, 0],\n",
       "          [0, 1, 0, 1, 0],\n",
       "          ...,\n",
       "          [0, 0, 0, 0, 0],\n",
       "          [0, 0, 0, 0, 1],\n",
       "          [0, 0, 1, 0, 0]],\n",
       "  \n",
       "         [[1, 0, 0, 0, 0],\n",
       "          [0, 0, 0, 0, 1],\n",
       "          [0, 0, 0, 1, 0],\n",
       "          ...,\n",
       "          [0, 0, 0, 0, 0],\n",
       "          [0, 0, 0, 1, 0],\n",
       "          [0, 0, 0, 0, 0]],\n",
       "  \n",
       "         [[0, 1, 0, 0, 0],\n",
       "          [0, 0, 0, 1, 0],\n",
       "          [1, 0, 0, 0, 0],\n",
       "          ...,\n",
       "          [0, 0, 1, 0, 0],\n",
       "          [0, 0, 0, 1, 0],\n",
       "          [1, 1, 1, 0, 0]],\n",
       "  \n",
       "         [[0, 0, 0, 0, 1],\n",
       "          [0, 0, 0, 0, 0],\n",
       "          [0, 1, 0, 0, 0],\n",
       "          ...,\n",
       "          [1, 0, 1, 0, 0],\n",
       "          [1, 0, 0, 0, 0],\n",
       "          [1, 0, 0, 0, 0]],\n",
       "  \n",
       "         [[0, 0, 1, 0, 0],\n",
       "          [0, 0, 1, 0, 0],\n",
       "          [0, 0, 0, 0, 1],\n",
       "          ...,\n",
       "          [1, 0, 0, 0, 0],\n",
       "          [1, 0, 0, 0, 0],\n",
       "          [1, 1, 0, 0, 1]]])])"
      ]
     },
     "execution_count": 9,
     "metadata": {},
     "output_type": "execute_result"
    }
   ],
   "source": [
    "block_of_locfdr1, block_of_locfdr2, block_of_vech1, block_of_vech2"
   ]
  },
  {
   "cell_type": "code",
   "execution_count": 21,
   "id": "676721f2",
   "metadata": {},
   "outputs": [
    {
     "data": {
      "text/plain": [
       "1"
      ]
     },
     "execution_count": 21,
     "metadata": {},
     "output_type": "execute_result"
    }
   ],
   "source": [
    "len(block_of_locfdr0[0][0][0])"
   ]
  },
  {
   "cell_type": "code",
   "execution_count": 23,
   "id": "357abc7b",
   "metadata": {},
   "outputs": [
    {
     "data": {
      "text/plain": [
       "(50, 4000, 1)"
      ]
     },
     "execution_count": 23,
     "metadata": {},
     "output_type": "execute_result"
    }
   ],
   "source": [
    "block_of_locfdr1[0].shape"
   ]
  },
  {
   "cell_type": "code",
   "execution_count": null,
   "id": "424d4996",
   "metadata": {},
   "outputs": [],
   "source": []
  },
  {
   "cell_type": "code",
   "execution_count": null,
   "id": "3e195124",
   "metadata": {},
   "outputs": [],
   "source": []
  },
  {
   "cell_type": "code",
   "execution_count": null,
   "id": "a45f9932",
   "metadata": {},
   "outputs": [],
   "source": []
  },
  {
   "cell_type": "code",
   "execution_count": null,
   "id": "26d10ed7",
   "metadata": {},
   "outputs": [],
   "source": []
  }
 ],
 "metadata": {
  "kernelspec": {
   "display_name": "Python 3 (ipykernel)",
   "language": "python",
   "name": "python3"
  },
  "language_info": {
   "codemirror_mode": {
    "name": "ipython",
    "version": 3
   },
   "file_extension": ".py",
   "mimetype": "text/x-python",
   "name": "python",
   "nbconvert_exporter": "python",
   "pygments_lexer": "ipython3",
   "version": "3.9.7"
  }
 },
 "nbformat": 4,
 "nbformat_minor": 5
}
